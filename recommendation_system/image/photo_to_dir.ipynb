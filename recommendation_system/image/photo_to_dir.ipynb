{
 "cells": [
  {
   "cell_type": "code",
   "execution_count": 1,
   "id": "01f24d2d",
   "metadata": {},
   "outputs": [],
   "source": [
    "# importing packages\n",
    "import pandas as pd\n",
    "import numpy as np\n",
    "import torch\n",
    "from PIL import Image\n",
    "from IPython.display import display\n",
    "import shutil\n",
    "import os\n",
    "import math\n",
    "image_original_folder = os.getcwd() + '/photos'"
   ]
  },
  {
   "cell_type": "code",
   "execution_count": 2,
   "id": "0807535d",
   "metadata": {},
   "outputs": [],
   "source": [
    "if os.path.exists('image'):\n",
    "    shutil.rmtree('image')"
   ]
  },
  {
   "cell_type": "code",
   "execution_count": 3,
   "id": "f0e69903",
   "metadata": {},
   "outputs": [],
   "source": [
    "df = pd.read_csv('processed_photo.csv')"
   ]
  },
  {
   "cell_type": "code",
   "execution_count": 4,
   "id": "7ac4e4fb",
   "metadata": {},
   "outputs": [],
   "source": [
    "df.dropna(inplace=True)"
   ]
  },
  {
   "cell_type": "code",
   "execution_count": 5,
   "id": "be7d5c17",
   "metadata": {},
   "outputs": [],
   "source": [
    "df.classes = df.classes.astype(int)"
   ]
  },
  {
   "cell_type": "code",
   "execution_count": 6,
   "id": "c782a49e",
   "metadata": {},
   "outputs": [],
   "source": [
    "classes = df.classes.unique().tolist()"
   ]
  },
  {
   "cell_type": "code",
   "execution_count": 7,
   "id": "3457f92e",
   "metadata": {},
   "outputs": [
    {
     "data": {
      "text/plain": [
       "5777"
      ]
     },
     "execution_count": 7,
     "metadata": {},
     "output_type": "execute_result"
    }
   ],
   "source": [
    "# max number of image for each class\n",
    "maximum_num = df.classes.value_counts().tail(1).values[0]\n",
    "maximum_num"
   ]
  },
  {
   "cell_type": "code",
   "execution_count": 8,
   "id": "eebe432c",
   "metadata": {},
   "outputs": [
    {
     "data": {
      "text/plain": [
       "1    6166\n",
       "0    5777\n",
       "Name: classes, dtype: int64"
      ]
     },
     "execution_count": 8,
     "metadata": {},
     "output_type": "execute_result"
    }
   ],
   "source": [
    "df.classes.value_counts()"
   ]
  },
  {
   "cell_type": "code",
   "execution_count": 9,
   "id": "dbee6bac",
   "metadata": {},
   "outputs": [],
   "source": [
    "# excess image file for each class\n",
    "# diff in each class to the lowest image class\n",
    "d = (df.classes.value_counts() - maximum_num).to_dict()"
   ]
  },
  {
   "cell_type": "code",
   "execution_count": 10,
   "id": "b151e7b1",
   "metadata": {},
   "outputs": [
    {
     "data": {
      "text/plain": [
       "{1: 389, 0: 0}"
      ]
     },
     "execution_count": 10,
     "metadata": {},
     "output_type": "execute_result"
    }
   ],
   "source": [
    "d"
   ]
  },
  {
   "cell_type": "code",
   "execution_count": 11,
   "id": "4206f433",
   "metadata": {},
   "outputs": [
    {
     "name": "stdout",
     "output_type": "stream",
     "text": [
      "image folder created\n",
      "train folder created\n",
      "validate folder created\n",
      "test folder created\n"
     ]
    }
   ],
   "source": [
    "# creating folder for test and train image\n",
    "if not os.path.exists('image'):\n",
    "    os.mkdir('image')\n",
    "    print('image folder created')\n",
    "if not os.path.exists('image/train'):\n",
    "    os.mkdir('image/train')\n",
    "    print('train folder created')\n",
    "if not os.path.exists('image/validate'):\n",
    "    os.mkdir('image/validate')\n",
    "    print('validate folder created')\n",
    "if not os.path.exists('image/test'):\n",
    "    os.mkdir('image/test')\n",
    "    print('test folder created')\n",
    "    \n",
    "image_folder = 'image/'"
   ]
  },
  {
   "cell_type": "code",
   "execution_count": 12,
   "id": "ed95b102",
   "metadata": {},
   "outputs": [
    {
     "name": "stdout",
     "output_type": "stream",
     "text": [
      "created folder image/train/0\n",
      "created folder image/test/0\n",
      "created folder image/validate/0\n",
      "created folder image/train/1\n",
      "created folder image/test/1\n",
      "created folder image/validate/1\n"
     ]
    }
   ],
   "source": [
    "# creating class folder\n",
    "for i in sorted(classes):\n",
    "    if not os.path.exists(image_folder + 'train/' + f'{i}'):\n",
    "        os.mkdir(image_folder + 'train/' + f'{i}')\n",
    "        print(f'created folder {image_folder}train/{i}')\n",
    "        \n",
    "    if not os.path.exists(image_folder + 'test/' + f'{i}'):\n",
    "        os.mkdir(image_folder + 'test/' + f'{i}')\n",
    "        print(f'created folder {image_folder}test/{i}')\n",
    "        \n",
    "    if not os.path.exists(image_folder + 'validate/' + f'{i}'):\n",
    "        os.mkdir(image_folder + 'validate/' + f'{i}')\n",
    "        print(f'created folder {image_folder}validate/{i}')"
   ]
  },
  {
   "cell_type": "code",
   "execution_count": 13,
   "id": "10990139",
   "metadata": {},
   "outputs": [],
   "source": [
    "# move image to new folder\n",
    "for image in os.listdir(image_original_folder):\n",
    "    a = df[df.photo_id == image.split('.jpg')[0]]\n",
    "    if not a.empty:\n",
    "        c = a.classes.iloc[0]\n",
    "        source = image_original_folder + '/' + str(image)\n",
    "        destination = image_folder + 'train/' + str(c) + '/' + str(image)\n",
    "        shutil.copyfile(source, destination)"
   ]
  },
  {
   "cell_type": "code",
   "execution_count": 14,
   "id": "3fbb5c7d",
   "metadata": {},
   "outputs": [],
   "source": [
    "for c in classes:\n",
    "    count = 0\n",
    "    for image in os.listdir(image_folder + 'train/' + f'{c}'):\n",
    "        os.remove(image_folder + 'train/' f'{c}/' + str(image))\n",
    "        if count == d[c]:\n",
    "            break\n",
    "        count += 1"
   ]
  },
  {
   "cell_type": "code",
   "execution_count": 15,
   "id": "7a240661",
   "metadata": {},
   "outputs": [],
   "source": [
    "def count_value(typ):\n",
    "    # count value in each class\n",
    "    for c in classes:\n",
    "        count = 0\n",
    "        for image in os.listdir(image_folder + f'/{typ}/{c}'):\n",
    "            count += 1\n",
    "        print(count, c)\n",
    "    return count"
   ]
  },
  {
   "cell_type": "code",
   "execution_count": 16,
   "id": "ee8bf583",
   "metadata": {},
   "outputs": [
    {
     "name": "stdout",
     "output_type": "stream",
     "text": [
      "5776 1\n",
      "5776 0\n"
     ]
    },
    {
     "data": {
      "text/plain": [
       "5776"
      ]
     },
     "execution_count": 16,
     "metadata": {},
     "output_type": "execute_result"
    }
   ],
   "source": [
    "count_value('train')"
   ]
  },
  {
   "cell_type": "code",
   "execution_count": 17,
   "id": "d3a0406a",
   "metadata": {},
   "outputs": [
    {
     "name": "stdout",
     "output_type": "stream",
     "text": [
      "777 1\n",
      "777 0\n"
     ]
    }
   ],
   "source": [
    "# for test set\n",
    "# 777 for test\n",
    "\n",
    "value = 777 #math.floor(count_value('train')*0.2)\n",
    "for c in classes:\n",
    "    count = 0 \n",
    "    for image in os.listdir(image_folder + f'/train/{c}'):\n",
    "        source = image_folder + 'train/' + str(c) + '/' + str(image)\n",
    "        destination = image_folder + 'test/' + str(c) + '/' + str(image)\n",
    "        shutil.move(source, destination)\n",
    "        \n",
    "        count+=1\n",
    "        if count == value:\n",
    "            break\n",
    "    print(count, c)"
   ]
  },
  {
   "cell_type": "code",
   "execution_count": 18,
   "id": "01df3ff7",
   "metadata": {},
   "outputs": [
    {
     "name": "stdout",
     "output_type": "stream",
     "text": [
      "4999 1\n",
      "4999 0\n",
      "999 1\n",
      "999 0\n"
     ]
    }
   ],
   "source": [
    "# for validation set\n",
    "# take train/validate ratio to about 8:2\n",
    "\n",
    "value = math.floor(count_value('train')*0.2)\n",
    "for c in classes:\n",
    "    count = 0 \n",
    "    for image in os.listdir(image_folder + f'/train/{c}'):\n",
    "        source = image_folder + 'train/' + str(c) + '/' + str(image)\n",
    "        destination = image_folder + 'validate/' + str(c) + '/' + str(image)\n",
    "        shutil.move(source, destination)\n",
    "        \n",
    "        count+=1\n",
    "        if count == value:\n",
    "            break\n",
    "    print(count, c)"
   ]
  },
  {
   "cell_type": "code",
   "execution_count": 19,
   "id": "02f0204b",
   "metadata": {
    "scrolled": true
   },
   "outputs": [
    {
     "name": "stdout",
     "output_type": "stream",
     "text": [
      "4000 1\n",
      "4000 0\n"
     ]
    },
    {
     "data": {
      "text/plain": [
       "4000"
      ]
     },
     "execution_count": 19,
     "metadata": {},
     "output_type": "execute_result"
    }
   ],
   "source": [
    "count_value('train')"
   ]
  },
  {
   "cell_type": "code",
   "execution_count": 20,
   "id": "22ab5a23",
   "metadata": {},
   "outputs": [
    {
     "name": "stdout",
     "output_type": "stream",
     "text": [
      "777 1\n",
      "777 0\n"
     ]
    },
    {
     "data": {
      "text/plain": [
       "777"
      ]
     },
     "execution_count": 20,
     "metadata": {},
     "output_type": "execute_result"
    }
   ],
   "source": [
    "count_value('test')"
   ]
  },
  {
   "cell_type": "code",
   "execution_count": 21,
   "id": "3fa6735e",
   "metadata": {},
   "outputs": [
    {
     "name": "stdout",
     "output_type": "stream",
     "text": [
      "999 1\n",
      "999 0\n"
     ]
    },
    {
     "data": {
      "text/plain": [
       "999"
      ]
     },
     "execution_count": 21,
     "metadata": {},
     "output_type": "execute_result"
    }
   ],
   "source": [
    "count_value('validate')"
   ]
  }
 ],
 "metadata": {
  "kernelspec": {
   "display_name": "ML4016",
   "language": "python",
   "name": "ml4016"
  },
  "language_info": {
   "codemirror_mode": {
    "name": "ipython",
    "version": 3
   },
   "file_extension": ".py",
   "mimetype": "text/x-python",
   "name": "python",
   "nbconvert_exporter": "python",
   "pygments_lexer": "ipython3",
   "version": "3.8.16"
  }
 },
 "nbformat": 4,
 "nbformat_minor": 5
}
