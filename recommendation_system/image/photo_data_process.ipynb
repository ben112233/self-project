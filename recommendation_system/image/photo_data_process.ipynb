{
 "cells": [
  {
   "cell_type": "code",
   "execution_count": 17,
   "metadata": {},
   "outputs": [],
   "source": [
    "# importing packages\n",
    "import pandas as pd\n",
    "import numpy as np"
   ]
  },
  {
   "cell_type": "code",
   "execution_count": 18,
   "metadata": {},
   "outputs": [],
   "source": [
    "import os\n",
    "root = os.getcwd()"
   ]
  },
  {
   "cell_type": "code",
   "execution_count": 19,
   "metadata": {
    "scrolled": true
   },
   "outputs": [],
   "source": [
    "# load photo and business data\n",
    "photo =  pd.read_json(root + '/../yelp/photos.json', lines= True)\n",
    "df = pd.read_json(root + '/../yelp/yelp_academic_dataset_business.json', lines=True)"
   ]
  },
  {
   "cell_type": "code",
   "execution_count": 20,
   "metadata": {},
   "outputs": [],
   "source": [
    "df.dropna(inplace = True)"
   ]
  },
  {
   "cell_type": "code",
   "execution_count": 21,
   "metadata": {},
   "outputs": [
    {
     "data": {
      "text/html": [
       "<div>\n",
       "<style scoped>\n",
       "    .dataframe tbody tr th:only-of-type {\n",
       "        vertical-align: middle;\n",
       "    }\n",
       "\n",
       "    .dataframe tbody tr th {\n",
       "        vertical-align: top;\n",
       "    }\n",
       "\n",
       "    .dataframe thead th {\n",
       "        text-align: right;\n",
       "    }\n",
       "</style>\n",
       "<table border=\"1\" class=\"dataframe\">\n",
       "  <thead>\n",
       "    <tr style=\"text-align: right;\">\n",
       "      <th></th>\n",
       "      <th>photo_id</th>\n",
       "      <th>business_id</th>\n",
       "      <th>caption</th>\n",
       "      <th>label</th>\n",
       "    </tr>\n",
       "  </thead>\n",
       "  <tbody>\n",
       "    <tr>\n",
       "      <th>0</th>\n",
       "      <td>zsvj7vloL4L5jhYyPIuVwg</td>\n",
       "      <td>Nk-SJhPlDBkAZvfsADtccA</td>\n",
       "      <td>Nice rock artwork everywhere and craploads of ...</td>\n",
       "      <td>inside</td>\n",
       "    </tr>\n",
       "    <tr>\n",
       "      <th>1</th>\n",
       "      <td>HCUdRJHHm_e0OCTlZetGLg</td>\n",
       "      <td>yVZtL5MmrpiivyCIrVkGgA</td>\n",
       "      <td></td>\n",
       "      <td>outside</td>\n",
       "    </tr>\n",
       "    <tr>\n",
       "      <th>2</th>\n",
       "      <td>vkr8T0scuJmGVvN2HJelEA</td>\n",
       "      <td>_ab50qdWOk0DdB6XOrBitw</td>\n",
       "      <td>oyster shooter</td>\n",
       "      <td>drink</td>\n",
       "    </tr>\n",
       "    <tr>\n",
       "      <th>3</th>\n",
       "      <td>pve7D6NUrafHW3EAORubyw</td>\n",
       "      <td>SZU9c8V2GuREDN5KgyHFJw</td>\n",
       "      <td>Shrimp scampi</td>\n",
       "      <td>food</td>\n",
       "    </tr>\n",
       "    <tr>\n",
       "      <th>4</th>\n",
       "      <td>H52Er-uBg6rNrHcReWTD2w</td>\n",
       "      <td>Gzur0f0XMkrVxIwYJvOt2g</td>\n",
       "      <td></td>\n",
       "      <td>food</td>\n",
       "    </tr>\n",
       "  </tbody>\n",
       "</table>\n",
       "</div>"
      ],
      "text/plain": [
       "                 photo_id             business_id  \\\n",
       "0  zsvj7vloL4L5jhYyPIuVwg  Nk-SJhPlDBkAZvfsADtccA   \n",
       "1  HCUdRJHHm_e0OCTlZetGLg  yVZtL5MmrpiivyCIrVkGgA   \n",
       "2  vkr8T0scuJmGVvN2HJelEA  _ab50qdWOk0DdB6XOrBitw   \n",
       "3  pve7D6NUrafHW3EAORubyw  SZU9c8V2GuREDN5KgyHFJw   \n",
       "4  H52Er-uBg6rNrHcReWTD2w  Gzur0f0XMkrVxIwYJvOt2g   \n",
       "\n",
       "                                             caption    label  \n",
       "0  Nice rock artwork everywhere and craploads of ...   inside  \n",
       "1                                                     outside  \n",
       "2                                     oyster shooter    drink  \n",
       "3                                      Shrimp scampi     food  \n",
       "4                                                        food  "
      ]
     },
     "execution_count": 21,
     "metadata": {},
     "output_type": "execute_result"
    }
   ],
   "source": [
    "# inspect photo dataset\n",
    "photo.head()"
   ]
  },
  {
   "cell_type": "markdown",
   "metadata": {},
   "source": [
    "df1 = photo[photo.label == 'drink'][['photo_id', 'label']].rename({'label':'classes'}, axis = 1)"
   ]
  },
  {
   "cell_type": "markdown",
   "metadata": {},
   "source": [
    "df1.classes = 0"
   ]
  },
  {
   "cell_type": "code",
   "execution_count": 22,
   "metadata": {},
   "outputs": [
    {
     "data": {
      "text/plain": [
       "array(['inside', 'outside', 'drink', 'food', 'menu'], dtype=object)"
      ]
     },
     "execution_count": 22,
     "metadata": {},
     "output_type": "execute_result"
    }
   ],
   "source": [
    "# see what class in photo label column\n",
    "photo.label.unique()"
   ]
  },
  {
   "cell_type": "code",
   "execution_count": 23,
   "metadata": {},
   "outputs": [],
   "source": [
    "# use label column containing only the food\n",
    "photo = photo.loc[photo.label == 'food']"
   ]
  },
  {
   "cell_type": "code",
   "execution_count": 24,
   "metadata": {},
   "outputs": [],
   "source": [
    "# turn photo caption column with no caption to Null\n",
    "photo.caption = photo.caption.apply(lambda x: 'NONE' if x == '' else x)"
   ]
  },
  {
   "cell_type": "code",
   "execution_count": 25,
   "metadata": {},
   "outputs": [],
   "source": [
    "# drop all row without caption\n",
    "photo = photo[photo.caption != 'NONE']\n",
    "\n",
    "# drop label column\n",
    "photo.drop('label', axis = 1, inplace=True)"
   ]
  },
  {
   "cell_type": "markdown",
   "metadata": {},
   "source": [
    "# merge photo dataset with business dataset\n",
    "merge = pd.merge(df,photo, on='business_id')"
   ]
  },
  {
   "cell_type": "code",
   "execution_count": 26,
   "metadata": {},
   "outputs": [],
   "source": [
    "df = df[df.categories.str.contains('restaurant', case=False)]"
   ]
  },
  {
   "cell_type": "code",
   "execution_count": 27,
   "metadata": {
    "scrolled": false
   },
   "outputs": [
    {
     "name": "stdout",
     "output_type": "stream",
     "text": [
      "701 ['Restaurants', 'Food', 'Bubble Tea', 'Coffee & Tea', 'Bakeries', 'Burgers', 'Fast Food', 'Sandwiches', 'Ice Cream & Frozen Yogurt', 'Vietnamese', 'Food Trucks', 'American (Traditional)', 'Diners', 'Breakfast & Brunch', 'Delis', 'Italian', 'Sushi Bars', 'Japanese', 'Korean', 'Cafes', 'Bars', 'Wine Bars', 'Nightlife', 'Steakhouses', 'Asian Fusion', 'Seafood', 'Cocktail Bars', 'Pizza', 'Chicken Wings', 'Salad', 'Soup', 'Eatertainment', 'Arts & Entertainment', 'Brewpubs', 'Breweries', 'Specialty Food', 'Pasta Shops', 'Chinese', 'Event Planning & Services', 'Caterers', 'Pets', 'Pet Adoption', 'American (New)', 'Sports Bars', 'Beer Bar', 'Lounges', 'Wraps', 'Automotive', 'Gas Stations', 'Convenience Stores', 'Pubs', 'Gastropubs', 'Venues & Event Spaces', 'Juice Bars & Smoothies', 'Fruits & Veggies', 'Sporting Goods', 'Sports Wear', 'Fashion', 'Shopping', 'Cajun/Creole', 'French', 'Moroccan', 'Mediterranean', 'Live/Raw Food', 'Beer', 'Wine & Spirits', 'Filipino', 'Mexican', 'Barbeque', 'Performing Arts', 'Hotels & Travel', 'Beauty & Spas', 'Museums', 'Hotels', 'Cinema', 'Resorts', 'Day Spas', 'Chicken Shop', 'Thai', 'Bagels', 'Jazz & Blues', 'Southern', 'Hawaiian', 'Street Vendors', 'Irish', 'Music Venues', 'Tobacco Shops', 'Hookah Bars', 'Vegan', 'Soul Food', 'Tapas/Small Plates', 'Irish Pub', 'Coffee Roasteries', 'Cupcakes', 'Caribbean', 'Trinidadian', 'Tex-Mex', 'Gluten-Free', 'Latin American', 'Comfort Food', 'Ethnic Food', 'Acai Bowls', 'Organic Stores', 'Vegetarian', 'Pakistani', 'Indian', 'Food Delivery Services', 'Halal', 'Greek', 'Food Stands', 'Seafood Markets', 'Hot Dogs', 'Active Life', 'Bowling', 'Buffets', 'Empanadas', 'Desserts', 'Tacos', 'Puerto Rican', 'Festivals', 'Local Flavor', 'Whiskey Bars', 'Honduran', 'Ramen', 'Noodles', 'Spanish', 'Cheesesteaks', 'African', 'Kebab', 'Turkish', 'Social Clubs', 'Arcades', 'Race Tracks', 'Mini Golf', 'Go Karts', 'Tea Rooms', 'Middle Eastern', 'Lebanese', 'Grocery', 'Creperies', 'Gelato', 'Golf', 'Poke', 'Shaved Ice', 'Dance Clubs', 'Falafel', 'Pretzels', 'Internet Cafes', 'Wineries', 'Donuts', 'Tapas Bars', 'Fish & Chips', 'Dive Bars', 'Pool Halls', 'Peruvian', 'Art Galleries', 'Canadian (New)', 'Beer Gardens', 'Ukrainian', 'Malaysian', 'Burmese', 'Cuban', 'Health Markets', 'Personal Chefs', 'Do-It-Yourself Food', 'Sicilian', 'Themed Cafes', \"Women's Clothing\", 'Pet Sitting', 'Accessories', 'Pet Stores', 'Pet Services', 'Vitamins & Supplements', 'Meat Shops', 'Party & Event Planning', 'Party Equipment Rentals', 'Sardinian', 'Laotian', 'Teppanyaki', 'Szechuan', 'Dominican', 'Ethiopian', 'Food Court', 'Shopping Centers', 'IT Services & Computer Repair', 'Local Services', 'Souvenir Shops', 'Wine Tasting Room', 'Persian/Iranian', 'Hong Kong Style Cafe', 'Taiwanese', 'Modern European', 'Farmers Market', 'Pan Asian', 'Karaoke', 'Casinos', 'New Mexican Cuisine', 'Wine Tasting Classes', 'Education', 'Tasting Classes', 'Oriental', 'Florists', 'Flowers & Gifts', 'Funeral Services & Cemeteries', 'Comedy Clubs', 'Outdoor Gear', 'Bed & Breakfast', 'German', 'Professional Services', 'Business Consulting', 'Cheese Shops', 'Christmas Trees', 'Home & Garden', 'Arabic', 'Tiki Bars', 'Argentine', 'Fitness & Instruction', 'Yoga', 'Portuguese', 'Hot Pot', 'Home Services', 'Real Estate', 'Kitchen Incubators', 'Butcher', 'Car Stereo Installation', 'Auto Detailing', 'Trailer Repair', 'Parking', 'Self Storage', 'RV Repair', 'Smog Check Stations', 'Auto Repair', 'Oil Change Stations', 'Counseling & Mental Health', 'Transmission Repair', 'Health & Medical', 'Body Shops', 'Windshield Installation & Repair', 'Auto Glass Services', 'Tires', 'Roadside Assistance', 'Battery Stores', 'Tennis', 'Home Cleaning', 'Thrift Stores', 'Indoor Playcentre', 'Kids Activities', 'Kosher', 'Religious Organizations', 'Custom Cakes', 'Skin Care', 'Hair Salons', 'Donairs', 'Poutineries', 'Party Supplies', 'Dim Sum', 'Cantonese', 'International Grocery', 'Candy Stores', 'Brasseries', 'Distilleries', 'Community Service/Non-Profit', 'Used Bookstore', 'Imported Food', 'Salvadoran', 'Golf Equipment', 'Mongolian', 'Country Clubs', 'British', 'Patisserie/Cake Shop', 'Waffles', 'Home Decor', 'Wedding Planning', 'Syrian', 'Musicians', 'Herbs & Spices', 'Pop-Up Restaurants', 'Armenian', 'Chocolatiers & Shops', 'International', 'Drugstores', 'Venezuelan', 'Wholesalers', 'Specialty Schools', 'Cooking Classes', 'Arts & Crafts', 'Cooking Schools', 'Financial Services', 'Banks & Credit Unions', 'Colombian', 'Brazilian', 'Haitian', 'Couriers & Delivery Services', 'Russian', 'Czech', 'Himalayan/Nepalese', 'Delicatessen', 'Parks', 'Dog Parks', 'Tours', 'Beer Tours', 'Adult Entertainment', 'Electronics Repair', 'Smokehouse', 'Polish', 'Hainan', 'Books', 'Mags', 'Music & Video', 'Bookstores', 'Photography Stores & Services', 'Afghan', 'Gun/Rifle Ranges', 'Cabaret', 'Cafeteria', 'Barbers', 'Cambodian', 'Gay Bars', 'Motorcycle Dealers', 'Restaurant Supplies', 'Public Markets', 'Jewelry', 'Building Supplies', 'Boating', 'Herbal Shops', 'Movers', 'Hardware Stores', 'Junk Removal & Hauling', 'Amusement Parks', 'Indonesian', 'Wholesale Stores', 'Cosmetics & Beauty Supply', 'Nutritionists', 'Sports Clubs', 'Batting Cages', 'Piano Bars', 'Food Tours', 'Senegalese', 'Appliances & Repair', 'Crane Services', 'Heating & Air Conditioning/HVAC', 'Tuscan', 'Cards & Stationery', 'Shared Office Spaces', 'Coffeeshops', \"Children's Clothing\", 'Department Stores', \"Men's Clothing\", 'Grilling Equipment', 'Beverage Store', 'Strip Clubs', 'Macarons', 'Golf Lessons', 'Car Dealers', 'Bar Crawl', 'Singaporean', 'Shanghainese', 'Boat Charters', 'Boat Tours', 'Fireworks', 'Guns & Ammo', 'Pediatricians', 'Doctors', 'Nail Salons', 'Waxing', 'Hair Removal', 'Pool & Billiards', 'Bistros', 'Cannabis Dispensaries', 'Leisure Centers', 'Laser Tag', 'Maternity Wear', 'Travel Services', 'Austrian', 'Beaches', 'Swimming Pools', 'Shaved Snow', 'Parent Cafes', 'Basque', 'Eyewear & Opticians', 'Personal Shopping', 'Pop-up Shops', 'Kombucha', 'Calabrian', 'Iberian', 'Australian', 'Stadiums & Arenas', 'Kids Hair Salons', 'Wine Tours', 'Farms', 'Historical Tours', 'Japanese Curry', 'Home Theatre Installation', 'TV Mounting', 'Massage Therapy', 'Naturopathic/Holistic', 'Massage', 'Vape Shops', 'Cannabis Clinics', 'Drive-Thru Bars', 'Playgrounds', 'Ethnic Grocery', 'Country Dance Halls', 'Musical Instruments & Teachers', 'South African', 'Fondue', 'Preschools', 'Elementary Schools', 'Pawn Shops', 'Popcorn Shops', 'Izakaya', 'Nicaraguan', 'Traditional Chinese Medicine', 'Party Bus Rentals', 'Bus Tours', 'Bangladeshi', 'Religious Items', 'Mobile Phone Repair', 'Pharmacy', 'Lawn Services', 'Landscaping', 'Food Banks', 'Kitchen & Bath', 'Ski Resorts', 'Antiques', 'Horseback Riding', 'Scottish', 'Print Media', 'Mass Media', 'Pancakes', 'Unofficial Yelp Events', 'Fishing', 'Dinner Theater', 'Dance Schools', 'Churches', 'Eyebrow Services', 'Psychiatrists', 'Neurologist', 'Medical Spas', 'Family Practice', 'Appliances', 'Furniture Stores', 'Wigs', 'Belgian', 'Hobby Shops', 'Nurseries & Gardening', 'Gyms', 'Recreation Centers', 'Trainers', 'Visitor Centers', 'Soccer', 'Amateur Sports Teams', 'Tax Services', 'Lahmacun', 'Yelp Events', 'Gift Shops', 'Public Services & Government', 'Landmarks & Historical Buildings', 'Music & DVDs', 'Toy Stores', 'Bartenders', 'Dietitians', 'Floral Designers', 'Animal Shelters', 'Discount Store', 'Outlet Stores', 'Egyptian', 'Tattoo', 'Gymnastics', 'Pilates', 'Medical Centers', 'Taxis', 'Public Transportation', 'Airport Shuttles', 'Transportation', 'Train Stations', 'Uzbek', 'Skating Rinks', 'Mattresses', 'Scandinavian', 'Interior Design', 'Club Crawl', 'Cigar Bars', 'Buddhist Temples', 'Veterinarians', 'Tabletop Games', 'Electronics', 'Mobile Phones', 'Paint & Sip', 'LAN Centers', 'Trampoline Parks', 'Rafting/Kayaking', 'Bike Rentals', 'Paddleboarding', 'Champagne Bars', 'Flea Markets', 'Videos & Video Game Rental', 'Auto Customization', 'Aquariums', 'Bikes', 'Bike Repair/Maintenance', 'Watches', 'Home Organization', 'Israeli', 'Educational Services', 'Newspapers & Magazines', 'Leather Goods', 'Supper Clubs', 'Real Estate Services', 'Used', 'Vintage & Consignment', 'Property Management', 'Cideries', 'Speakeasies', 'Beer Hall', 'Olive Oil', 'Dry Cleaning & Laundry', 'Adult Education', 'Kitchen Supplies', 'Wheel & Rim Repair', 'Comic Books', 'Private Tutors', 'Tutoring Centers', 'Georgian', 'Video Game Stores', 'DJs', 'Marketing', 'Graphic Design', 'Advertising', 'Coffee & Tea Supplies', 'Pest Control', 'Accountants', 'Financial Advising', 'Plumbing', 'Water Heater Installation/Repair', 'Sri Lankan', 'Clothing Rental', 'Airports', 'Fuzhou', 'Grill Services', 'Contractors', 'Real Estate Agents', 'Officiants', 'Apartments', 'Hostels', 'Shoe Stores', 'Lawyers', 'Billing Services', 'Plastic Surgeons', 'Cosmetic Surgeons', 'Golf Cart Rentals', 'Honey', 'Wildlife Control', 'Osteopaths', 'Hospitals', 'Propane', 'Costumes', 'Hunting & Fishing Supplies', 'Auto Parts & Supplies', 'Boat Repair', 'Marinas', 'Tableware', 'Roofing', 'Solar Installation', 'Head Shops', 'Community Centers', 'Cultural Center', 'Rolfing', 'Check Cashing/Pay-day Loans', 'Kiosk', 'Adult', 'Colleges & Universities', 'Art Museums', 'Roman', 'Ticket Sales', 'Axe Throwing', 'Painters', 'Pressure Washers', 'Water Purification Services', 'Septic Services', 'Beach Bars', 'Horse Racing', 'Piercing', 'Vacation Rentals', 'Vinyl Records', 'Blow Dry/Out Services', 'Hair Extensions', 'Hair Stylists', 'Hungarian', 'Dance Studios', 'Shipping Centers', 'Spiritual Shop', 'Hakka', 'Photographers', 'Homeowner Association', 'Team Building Activities', 'Bocce Ball', 'Candle Stores', 'Art Classes', 'Walking Tours', 'Tree Services', 'Eyelash Service', 'Perfume', 'Laundry Services', 'Pet Photography', 'CSA', 'Recycling Center', 'Limos', 'Tonkatsu', 'Donburi', 'Travel Agents', 'Supernatural Readings', 'Acupuncture', 'Weight Loss Centers', 'Audio/Visual Equipment Rental', 'Escape Games', 'Guest Houses', 'Pita', 'Dry Cleaning', 'Laundromat', 'Dentists', 'General Dentistry', 'Outdoor Furniture Stores', 'Reiki', 'Botanical Gardens', 'Drive-In Theater', 'Eastern European', 'Threading Services', 'Session Photography', 'Auction Houses', 'Music Production Services', 'Recording & Rehearsal Studios', 'Packing Services', 'Car Share Services', 'Office Cleaning', 'Airport Lounges', 'Car Wash', 'Brewing Supplies', 'Ice Delivery', 'Customized Merchandise', 'Screen Printing/T-Shirt Printing', 'Service Stations', 'Hiking', \"Men's Hair Salons\", 'Fireplace Services', 'Virtual Reality Centers', 'Web Design', 'Somali', 'Pick Your Own Farms', 'Art Tours', 'Livestock Feed & Supply', 'Oral Surgeons', 'Skate Shops', 'Diagnostic Imaging', 'Diagnostic Services', 'Chiropractors', 'Radiologists', 'Sports Betting', 'Bridal', 'Dumplings', 'Flight Instruction', 'Cucina campana', 'Carpet Cleaning', 'Nail Technicians', 'Cabinetry', 'Countertop Installation', 'Tiling', 'Ethical Grocery', 'Trains', 'Personal Assistants', 'Trivia Hosts', 'Conveyor Belt Sushi', 'Rest Stops', 'Reflexology', 'Libraries', 'Wedding Chapels', 'Water Stores', 'Special Education', 'Hotel bar', 'Makeup Artists', 'Health Retreats', 'Hindu Temples', 'Investing', 'Auto Loan Providers', 'Child Care & Day Care', 'Haunted Houses', 'Furniture Reupholstery', 'Damage Restoration', 'Air Duct Cleaning', 'Commercial Truck Repair', 'Security Systems', 'Airport Terminals', 'Landscape Architects', 'Gardeners', 'Irrigation', 'Garage Door Services', 'Keys & Locksmiths', 'Serbo Croatian', 'Towing', 'Hair Loss Centers', 'Gemstones & Minerals']\n"
     ]
    }
   ],
   "source": [
    "# explode the categories into a list of category\n",
    "df['cat'] = df.categories.explode().apply(lambda x: x.split(', '))\n",
    "\n",
    "# define a list to store category without duplicate\n",
    "store = []\n",
    "for cats in iter(df.cat):\n",
    "    for cat in cats:\n",
    "        if cat not in store:\n",
    "            store.append(cat)\n",
    "            \n",
    "print(len(store), store)"
   ]
  },
  {
   "cell_type": "markdown",
   "metadata": {},
   "source": [
    "# getting the class we wanted for image classification\n",
    "def find_class(x):\n",
    "    #if 'chicken' in x:\n",
    "    #    return 0\n",
    "    if 'steak' in x or 'chicken' in x or 'meat' in x:\n",
    "        return 0\n",
    "    #elif 'sushi' in x:\n",
    "    #    return 1\n",
    "    elif 'veg' in x or 'salad' in x:\n",
    "        return 1\n",
    "    else:\n",
    "        return 'None'\n",
    "\n",
    "df['classes'] = df.categories.apply(lambda x: find_class(x.lower()))\n",
    "df['classes'].value_counts()"
   ]
  },
  {
   "cell_type": "code",
   "execution_count": 28,
   "metadata": {},
   "outputs": [
    {
     "data": {
      "text/plain": [
       "None    35822\n",
       "0        5072\n",
       "1        3798\n",
       "Name: classes, dtype: int64"
      ]
     },
     "execution_count": 28,
     "metadata": {},
     "output_type": "execute_result"
    }
   ],
   "source": [
    "# getting the class we wanted for image classification\n",
    "def find_class(x):\n",
    "    if 'steak' in x or 'chicken' in x or 'meat' in x:\n",
    "        return 0\n",
    "    elif 'veg' in x or 'salad' in x:\n",
    "        return 1\n",
    "    #elif 'pizza' in x:\n",
    "    #    return 2\n",
    "    #elif 'burger' in x:\n",
    "    #    return 3\n",
    "    else:\n",
    "        return 'None'\n",
    "\n",
    "df['classes'] = df.categories.apply(lambda x: find_class(x.lower()))\n",
    "df['classes'].value_counts()"
   ]
  },
  {
   "cell_type": "code",
   "execution_count": 29,
   "metadata": {},
   "outputs": [],
   "source": [
    "# drop none classes\n",
    "df = df[df.classes != 'None']"
   ]
  },
  {
   "cell_type": "code",
   "execution_count": 30,
   "metadata": {},
   "outputs": [],
   "source": [
    "photo_processed = pd.merge(photo[['photo_id', 'business_id']], df[['business_id', 'classes']]).drop_duplicates().drop('business_id', axis =1)"
   ]
  },
  {
   "cell_type": "code",
   "execution_count": 31,
   "metadata": {},
   "outputs": [
    {
     "data": {
      "text/plain": [
       "1    6166\n",
       "0    5777\n",
       "Name: classes, dtype: int64"
      ]
     },
     "execution_count": 31,
     "metadata": {},
     "output_type": "execute_result"
    }
   ],
   "source": [
    "photo_processed.classes.value_counts()"
   ]
  },
  {
   "cell_type": "code",
   "execution_count": 32,
   "metadata": {},
   "outputs": [],
   "source": [
    "photo_processed.to_csv('processed_photo.csv', index = False)"
   ]
  }
 ],
 "metadata": {
  "kernelspec": {
   "display_name": "ML4016",
   "language": "python",
   "name": "ml4016"
  },
  "language_info": {
   "codemirror_mode": {
    "name": "ipython",
    "version": 3
   },
   "file_extension": ".py",
   "mimetype": "text/x-python",
   "name": "python",
   "nbconvert_exporter": "python",
   "pygments_lexer": "ipython3",
   "version": "3.8.16"
  }
 },
 "nbformat": 4,
 "nbformat_minor": 2
}
