{
 "cells": [
  {
   "cell_type": "code",
   "execution_count": 206,
   "metadata": {
    "id": "V3KqM7mXWrPT"
   },
   "outputs": [],
   "source": [
    "import numpy as np\n",
    "import pandas as pd\n",
    "import ast\n",
    "from datetime import datetime\n",
    "from mlxtend.preprocessing import TransactionEncoder\n",
    "from sklearn.preprocessing import LabelEncoder\n",
    "from sklearn.preprocessing import OneHotEncoder\n",
    "from sklearn.model_selection import train_test_split"
   ]
  },
  {
   "cell_type": "code",
   "execution_count": 207,
   "metadata": {},
   "outputs": [],
   "source": [
    "import os\n",
    "root = os.getcwd()"
   ]
  },
  {
   "cell_type": "code",
   "execution_count": 208,
   "metadata": {
    "colab": {
     "base_uri": "https://localhost:8080/",
     "height": 1000
    },
    "id": "a45c147aW3cv",
    "outputId": "fc31db70-717f-457e-bf27-7a959050caae",
    "scrolled": true
   },
   "outputs": [],
   "source": [
    "yelp=pd.read_csv(root + \"/../yelp/processed.csv\")"
   ]
  },
  {
   "cell_type": "markdown",
   "metadata": {
    "id": "0USDGvgIcIcj"
   },
   "source": [
    "## one-hot: attributes"
   ]
  },
  {
   "cell_type": "code",
   "execution_count": 209,
   "metadata": {
    "colab": {
     "base_uri": "https://localhost:8080/"
    },
    "id": "bAUtMA3pEokW",
    "outputId": "13a001e8-7555-4000-b2b8-08e5adfeb998",
    "scrolled": true
   },
   "outputs": [
    {
     "data": {
      "text/plain": [
       "0"
      ]
     },
     "execution_count": 209,
     "metadata": {},
     "output_type": "execute_result"
    }
   ],
   "source": [
    "import ast\n",
    "nonstr = ast.literal_eval(yelp[\"attributes\"].values[0])\n",
    "\n",
    "import ast\n",
    "def str2dict(strJson):\n",
    "  nonstr = ast.literal_eval(strJson)\n",
    "  \n",
    "  for i in nonstr:\n",
    "    nonstr[i]=ast.literal_eval(nonstr[i])\n",
    "\n",
    "  return nonstr\n",
    "\n",
    "  df=pd.json_normalize(nonstr)\n",
    "  df.columns=\"attributes.\"+df.columns\n",
    "  return df\n",
    "\n",
    "def dict2df(colName):\n",
    "  targetDict=np.array([])\n",
    "  for i in yelp[colName].values:\n",
    "    targetDict = np.append(targetDict, str2dict(i))\n",
    "\n",
    "  targetDF=pd.json_normalize(targetDict)\n",
    "  targetDF.columns = colName + \".\" + targetDF.columns\n",
    "  return targetDF\n",
    "\n",
    "attDF=dict2df(\"attributes\")\n",
    "attDF=attDF.fillna(False)\n",
    "\n",
    "attDF=attDF[attDF.dtypes[attDF.dtypes==\"bool\"].keys()]\n",
    "attDF.isnull().sum().sum()"
   ]
  },
  {
   "cell_type": "markdown",
   "metadata": {
    "id": "_ZTyQAq5BCJj"
   },
   "source": [
    "# String ID to Integer ID"
   ]
  },
  {
   "cell_type": "code",
   "execution_count": 210,
   "metadata": {
    "colab": {
     "base_uri": "https://localhost:8080/",
     "height": 1000
    },
    "id": "v4u6T3R6BerK",
    "outputId": "13cb80c9-7486-461a-b055-52ffe2bf0a2d",
    "scrolled": true
   },
   "outputs": [],
   "source": [
    "userEncoder = LabelEncoder()\n",
    "userIID = userEncoder.fit_transform(yelp[\"user_id\"])\n",
    "yelp[\"userIntID\"]=pd.Series(userIID)"
   ]
  },
  {
   "cell_type": "code",
   "execution_count": 211,
   "metadata": {
    "colab": {
     "base_uri": "https://localhost:8080/",
     "height": 1000
    },
    "id": "8WlB9JfTBB2F",
    "outputId": "c26fedfc-903d-48f5-aafc-2474a294d999",
    "scrolled": true
   },
   "outputs": [
    {
     "data": {
      "text/html": [
       "<div>\n",
       "<style scoped>\n",
       "    .dataframe tbody tr th:only-of-type {\n",
       "        vertical-align: middle;\n",
       "    }\n",
       "\n",
       "    .dataframe tbody tr th {\n",
       "        vertical-align: top;\n",
       "    }\n",
       "\n",
       "    .dataframe thead th {\n",
       "        text-align: right;\n",
       "    }\n",
       "</style>\n",
       "<table border=\"1\" class=\"dataframe\">\n",
       "  <thead>\n",
       "    <tr style=\"text-align: right;\">\n",
       "      <th></th>\n",
       "      <th>review_id</th>\n",
       "      <th>user_id</th>\n",
       "      <th>business_id</th>\n",
       "      <th>review_star</th>\n",
       "      <th>date</th>\n",
       "      <th>text</th>\n",
       "      <th>name</th>\n",
       "      <th>address</th>\n",
       "      <th>latitude</th>\n",
       "      <th>longitude</th>\n",
       "      <th>...</th>\n",
       "      <th>review_count</th>\n",
       "      <th>attributes</th>\n",
       "      <th>categories</th>\n",
       "      <th>hours</th>\n",
       "      <th>user_name</th>\n",
       "      <th>friends</th>\n",
       "      <th>user_stars</th>\n",
       "      <th>additional_text</th>\n",
       "      <th>userIntID</th>\n",
       "      <th>restIntID</th>\n",
       "    </tr>\n",
       "  </thead>\n",
       "  <tbody>\n",
       "    <tr>\n",
       "      <th>0</th>\n",
       "      <td>KY8dRN_k2EoR_QujKAegTQ</td>\n",
       "      <td>ARFM4LrI_zxogm1L29ZKng</td>\n",
       "      <td>UmjITdXHhEF46ho6IhaGQg</td>\n",
       "      <td>3.0</td>\n",
       "      <td>2019-02-14 17:06:51</td>\n",
       "      <td>Delete out at this Dave and busters was a litt...</td>\n",
       "      <td>Dave &amp; Buster's</td>\n",
       "      <td>1200 Poydras St, Unit 601</td>\n",
       "      <td>29.950516</td>\n",
       "      <td>-90.076204</td>\n",
       "      <td>...</td>\n",
       "      <td>351</td>\n",
       "      <td>{'HappyHour': 'True', 'GoodForKids': 'True', '...</td>\n",
       "      <td>Adult Entertainment, Sports Bars, Restaurants,...</td>\n",
       "      <td>{'Monday': '0:0-0:0', 'Tuesday': '10:0-23:59',...</td>\n",
       "      <td>Farrah</td>\n",
       "      <td>iLYJxAravwLXXKj7GLHo9g, zY9qmzJ4QCxejVAvkFiDyw...</td>\n",
       "      <td>3.94</td>\n",
       "      <td>When you dine in, the food is delivered to you...</td>\n",
       "      <td>1949</td>\n",
       "      <td>914</td>\n",
       "    </tr>\n",
       "    <tr>\n",
       "      <th>1</th>\n",
       "      <td>o_Zi01b_Vr0_8EIqEPDDVQ</td>\n",
       "      <td>ARFM4LrI_zxogm1L29ZKng</td>\n",
       "      <td>EME5hqQLjBD7e2cLryupbA</td>\n",
       "      <td>5.0</td>\n",
       "      <td>2019-03-26 17:02:43</td>\n",
       "      <td>I had an amazing time at Mr. Ed's and the food...</td>\n",
       "      <td>Mr Ed's Oyster Bar - Bienville</td>\n",
       "      <td>512 Bienville St</td>\n",
       "      <td>29.953705</td>\n",
       "      <td>-90.066015</td>\n",
       "      <td>...</td>\n",
       "      <td>1306</td>\n",
       "      <td>{'BusinessAcceptsCreditCards': 'True', 'GoodFo...</td>\n",
       "      <td>Cajun/Creole, Southern, French, Salad, Restaur...</td>\n",
       "      <td>{'Monday': '0:0-0:0', 'Tuesday': '11:0-21:0', ...</td>\n",
       "      <td>Farrah</td>\n",
       "      <td>iLYJxAravwLXXKj7GLHo9g, zY9qmzJ4QCxejVAvkFiDyw...</td>\n",
       "      <td>3.94</td>\n",
       "      <td>For faster seating, use the app to check in be...</td>\n",
       "      <td>1949</td>\n",
       "      <td>447</td>\n",
       "    </tr>\n",
       "    <tr>\n",
       "      <th>2</th>\n",
       "      <td>IRHj0qVq1m9jN7z6GkZ1Fg</td>\n",
       "      <td>qQLZBmmnAvi9N7_Bymc6hA</td>\n",
       "      <td>UmjITdXHhEF46ho6IhaGQg</td>\n",
       "      <td>1.0</td>\n",
       "      <td>2020-01-31 07:24:56</td>\n",
       "      <td>Took forever to get drinks. Were told there wa...</td>\n",
       "      <td>Dave &amp; Buster's</td>\n",
       "      <td>1200 Poydras St, Unit 601</td>\n",
       "      <td>29.950516</td>\n",
       "      <td>-90.076204</td>\n",
       "      <td>...</td>\n",
       "      <td>351</td>\n",
       "      <td>{'HappyHour': 'True', 'GoodForKids': 'True', '...</td>\n",
       "      <td>Adult Entertainment, Sports Bars, Restaurants,...</td>\n",
       "      <td>{'Monday': '0:0-0:0', 'Tuesday': '10:0-23:59',...</td>\n",
       "      <td>Troy</td>\n",
       "      <td>3JXtg9i8cJtyxJEecanUyw, px1O23z7UNygl7h1Zp0Blw...</td>\n",
       "      <td>2.55</td>\n",
       "      <td>Their hours have changed for the fall 2019...1...</td>\n",
       "      <td>9378</td>\n",
       "      <td>914</td>\n",
       "    </tr>\n",
       "    <tr>\n",
       "      <th>3</th>\n",
       "      <td>yBn5lrJ6ZxEvdC7BDJ-qdw</td>\n",
       "      <td>qQLZBmmnAvi9N7_Bymc6hA</td>\n",
       "      <td>UmjITdXHhEF46ho6IhaGQg</td>\n",
       "      <td>1.0</td>\n",
       "      <td>2019-12-28 05:23:47</td>\n",
       "      <td>Been here twice first and last time. It takes ...</td>\n",
       "      <td>Dave &amp; Buster's</td>\n",
       "      <td>1200 Poydras St, Unit 601</td>\n",
       "      <td>29.950516</td>\n",
       "      <td>-90.076204</td>\n",
       "      <td>...</td>\n",
       "      <td>351</td>\n",
       "      <td>{'HappyHour': 'True', 'GoodForKids': 'True', '...</td>\n",
       "      <td>Adult Entertainment, Sports Bars, Restaurants,...</td>\n",
       "      <td>{'Monday': '0:0-0:0', 'Tuesday': '10:0-23:59',...</td>\n",
       "      <td>Troy</td>\n",
       "      <td>3JXtg9i8cJtyxJEecanUyw, px1O23z7UNygl7h1Zp0Blw...</td>\n",
       "      <td>2.55</td>\n",
       "      <td>Until we meet again!</td>\n",
       "      <td>9378</td>\n",
       "      <td>914</td>\n",
       "    </tr>\n",
       "    <tr>\n",
       "      <th>4</th>\n",
       "      <td>PaIK__J-Qm7Y3u-iA8kGQA</td>\n",
       "      <td>qQLZBmmnAvi9N7_Bymc6hA</td>\n",
       "      <td>xbgzX-_EpV6yH-6nf2LCNw</td>\n",
       "      <td>1.0</td>\n",
       "      <td>2019-12-26 12:55:21</td>\n",
       "      <td>Tried to give this place one more try. It is s...</td>\n",
       "      <td>McDonald's</td>\n",
       "      <td>3250 General Degaulle Dr</td>\n",
       "      <td>29.926163</td>\n",
       "      <td>-90.022580</td>\n",
       "      <td>...</td>\n",
       "      <td>23</td>\n",
       "      <td>{'BusinessAcceptsCreditCards': 'True', 'Restau...</td>\n",
       "      <td>Food, Restaurants, Sandwiches, Coffee &amp; Tea, B...</td>\n",
       "      <td>{'Monday': '0:0-0:0', 'Tuesday': '0:0-0:0', 'W...</td>\n",
       "      <td>Troy</td>\n",
       "      <td>3JXtg9i8cJtyxJEecanUyw, px1O23z7UNygl7h1Zp0Blw...</td>\n",
       "      <td>2.55</td>\n",
       "      <td>they have the impossible burger!!!</td>\n",
       "      <td>9378</td>\n",
       "      <td>1754</td>\n",
       "    </tr>\n",
       "    <tr>\n",
       "      <th>...</th>\n",
       "      <td>...</td>\n",
       "      <td>...</td>\n",
       "      <td>...</td>\n",
       "      <td>...</td>\n",
       "      <td>...</td>\n",
       "      <td>...</td>\n",
       "      <td>...</td>\n",
       "      <td>...</td>\n",
       "      <td>...</td>\n",
       "      <td>...</td>\n",
       "      <td>...</td>\n",
       "      <td>...</td>\n",
       "      <td>...</td>\n",
       "      <td>...</td>\n",
       "      <td>...</td>\n",
       "      <td>...</td>\n",
       "      <td>...</td>\n",
       "      <td>...</td>\n",
       "      <td>...</td>\n",
       "      <td>...</td>\n",
       "      <td>...</td>\n",
       "    </tr>\n",
       "    <tr>\n",
       "      <th>31621</th>\n",
       "      <td>jvcrBHuO_9TdErc0TMqokw</td>\n",
       "      <td>eGqr3lwwonUATMeKp7QpHg</td>\n",
       "      <td>-ojG1NfFYuHN_oGsGK1W8Q</td>\n",
       "      <td>4.0</td>\n",
       "      <td>2021-03-16 04:17:03</td>\n",
       "      <td>Saw this spot on Yelp, we were tired and hungr...</td>\n",
       "      <td>The Little Easy</td>\n",
       "      <td>634 Julia St</td>\n",
       "      <td>29.945644</td>\n",
       "      <td>-90.071374</td>\n",
       "      <td>...</td>\n",
       "      <td>52</td>\n",
       "      <td>{'Alcohol': \"u'full_bar'\", 'CoatCheck': 'False...</td>\n",
       "      <td>Restaurants, Nightlife, Sandwiches, Sports Bar...</td>\n",
       "      <td>{'Monday': '11:0-0:0', 'Tuesday': '11:0-0:0', ...</td>\n",
       "      <td>Sheronda</td>\n",
       "      <td>v2ErOtodrXqL6tOV9LBpYw, V-Iv7rt3301xvg0di3dTxg...</td>\n",
       "      <td>3.73</td>\n",
       "      <td>NaN</td>\n",
       "      <td>7291</td>\n",
       "      <td>22</td>\n",
       "    </tr>\n",
       "    <tr>\n",
       "      <th>31622</th>\n",
       "      <td>BEM9YZIiiSZEvQ93AJ4ACw</td>\n",
       "      <td>y6SzYr7xpMmpobNmWaTZTQ</td>\n",
       "      <td>7ZV31rGcDaT1pUKyvJF9Mg</td>\n",
       "      <td>5.0</td>\n",
       "      <td>2020-10-11 12:03:06</td>\n",
       "      <td>Holy sh*t. My favorite baker who opened and ra...</td>\n",
       "      <td>Celtica French Bakery</td>\n",
       "      <td>218 Robert E Lee Blvd</td>\n",
       "      <td>30.019734</td>\n",
       "      <td>-90.111988</td>\n",
       "      <td>...</td>\n",
       "      <td>29</td>\n",
       "      <td>{'BusinessParking': \"{'garage': False, 'street...</td>\n",
       "      <td>Food, Restaurants, Bakeries, Breakfast &amp; Brunc...</td>\n",
       "      <td>{'Wednesday': '7:0-15:0', 'Thursday': '7:0-15:...</td>\n",
       "      <td>Jennifer</td>\n",
       "      <td>QaLpN4czjYMhNms2r45Iwg, RAdOVAGwzJG_ul8T46AR4A...</td>\n",
       "      <td>3.92</td>\n",
       "      <td>NaN</td>\n",
       "      <td>10705</td>\n",
       "      <td>259</td>\n",
       "    </tr>\n",
       "    <tr>\n",
       "      <th>31623</th>\n",
       "      <td>YFGer7LZzfgtLYc7EPc6lg</td>\n",
       "      <td>0qlZ8SHk2WrzG5dg_D9fBA</td>\n",
       "      <td>I1LP0Vg55lwufnoNREE1KA</td>\n",
       "      <td>1.0</td>\n",
       "      <td>2019-04-09 01:48:27</td>\n",
       "      <td>Writing this review in hopes of alerting the p...</td>\n",
       "      <td>McDonald's</td>\n",
       "      <td>2856 S Claiborne</td>\n",
       "      <td>29.941588</td>\n",
       "      <td>-90.095297</td>\n",
       "      <td>...</td>\n",
       "      <td>25</td>\n",
       "      <td>{'GoodForKids': 'True', 'RestaurantsAttire': \"...</td>\n",
       "      <td>Restaurants, Coffee &amp; Tea, Fast Food, Food, Bu...</td>\n",
       "      <td>{'Monday': '0:0-0:0', 'Tuesday': '0:0-0:0', 'W...</td>\n",
       "      <td>Peggy</td>\n",
       "      <td>WCPMwOPWjAcx4ywH9oS_aQ, GiSBpB-6turlKtTaEn0fSA...</td>\n",
       "      <td>3.13</td>\n",
       "      <td>NaN</td>\n",
       "      <td>336</td>\n",
       "      <td>567</td>\n",
       "    </tr>\n",
       "    <tr>\n",
       "      <th>31624</th>\n",
       "      <td>O7GpcumzyzHdDUXxbwwCOQ</td>\n",
       "      <td>blEtNROhkgPbawqTNlL5Qg</td>\n",
       "      <td>gWKOrelk92IMrWvS_iFcqg</td>\n",
       "      <td>5.0</td>\n",
       "      <td>2021-07-04 02:44:25</td>\n",
       "      <td>Oh. My. God!!!!! This place is absolutely amaz...</td>\n",
       "      <td>14 Parishes on Oak</td>\n",
       "      <td>8227 Oak St</td>\n",
       "      <td>29.948670</td>\n",
       "      <td>-90.131127</td>\n",
       "      <td>...</td>\n",
       "      <td>16</td>\n",
       "      <td>{'BusinessParking': \"{u'valet': False, u'garag...</td>\n",
       "      <td>Caribbean, Restaurants</td>\n",
       "      <td>{'Tuesday': '16:0-21:0', 'Wednesday': '16:0-21...</td>\n",
       "      <td>Dave</td>\n",
       "      <td>8Nj4UhJkbfx48jPxqpir-g</td>\n",
       "      <td>1.94</td>\n",
       "      <td>NaN</td>\n",
       "      <td>6831</td>\n",
       "      <td>1288</td>\n",
       "    </tr>\n",
       "    <tr>\n",
       "      <th>31625</th>\n",
       "      <td>3sDtN2bFLokMbNbBzTsjSA</td>\n",
       "      <td>a-Z3HSdECIJmlmpEpsC4Sg</td>\n",
       "      <td>ycmC6YVJPN5aHoZivAYakw</td>\n",
       "      <td>1.0</td>\n",
       "      <td>2021-01-07 02:36:12</td>\n",
       "      <td>Man I don't know where to start. This place is...</td>\n",
       "      <td>Bobby's Seafood</td>\n",
       "      <td>9013 Jefferson Hwy</td>\n",
       "      <td>29.947208</td>\n",
       "      <td>-90.213238</td>\n",
       "      <td>...</td>\n",
       "      <td>38</td>\n",
       "      <td>{'RestaurantsTakeOut': 'True', 'GoodForKids': ...</td>\n",
       "      <td>Wholesale Stores, Seafood Markets, Seafood, Re...</td>\n",
       "      <td>{'Monday': '9:0-15:0', 'Tuesday': '9:0-18:0', ...</td>\n",
       "      <td>J</td>\n",
       "      <td>eRnjT3qDWIZr8d96KgD3CA, jjGAwrzQXTL61PepH4PcjQ...</td>\n",
       "      <td>2.76</td>\n",
       "      <td>NaN</td>\n",
       "      <td>6549</td>\n",
       "      <td>1787</td>\n",
       "    </tr>\n",
       "  </tbody>\n",
       "</table>\n",
       "<p>31626 rows × 21 columns</p>\n",
       "</div>"
      ],
      "text/plain": [
       "                    review_id                 user_id             business_id  \\\n",
       "0      KY8dRN_k2EoR_QujKAegTQ  ARFM4LrI_zxogm1L29ZKng  UmjITdXHhEF46ho6IhaGQg   \n",
       "1      o_Zi01b_Vr0_8EIqEPDDVQ  ARFM4LrI_zxogm1L29ZKng  EME5hqQLjBD7e2cLryupbA   \n",
       "2      IRHj0qVq1m9jN7z6GkZ1Fg  qQLZBmmnAvi9N7_Bymc6hA  UmjITdXHhEF46ho6IhaGQg   \n",
       "3      yBn5lrJ6ZxEvdC7BDJ-qdw  qQLZBmmnAvi9N7_Bymc6hA  UmjITdXHhEF46ho6IhaGQg   \n",
       "4      PaIK__J-Qm7Y3u-iA8kGQA  qQLZBmmnAvi9N7_Bymc6hA  xbgzX-_EpV6yH-6nf2LCNw   \n",
       "...                       ...                     ...                     ...   \n",
       "31621  jvcrBHuO_9TdErc0TMqokw  eGqr3lwwonUATMeKp7QpHg  -ojG1NfFYuHN_oGsGK1W8Q   \n",
       "31622  BEM9YZIiiSZEvQ93AJ4ACw  y6SzYr7xpMmpobNmWaTZTQ  7ZV31rGcDaT1pUKyvJF9Mg   \n",
       "31623  YFGer7LZzfgtLYc7EPc6lg  0qlZ8SHk2WrzG5dg_D9fBA  I1LP0Vg55lwufnoNREE1KA   \n",
       "31624  O7GpcumzyzHdDUXxbwwCOQ  blEtNROhkgPbawqTNlL5Qg  gWKOrelk92IMrWvS_iFcqg   \n",
       "31625  3sDtN2bFLokMbNbBzTsjSA  a-Z3HSdECIJmlmpEpsC4Sg  ycmC6YVJPN5aHoZivAYakw   \n",
       "\n",
       "       review_star                 date  \\\n",
       "0              3.0  2019-02-14 17:06:51   \n",
       "1              5.0  2019-03-26 17:02:43   \n",
       "2              1.0  2020-01-31 07:24:56   \n",
       "3              1.0  2019-12-28 05:23:47   \n",
       "4              1.0  2019-12-26 12:55:21   \n",
       "...            ...                  ...   \n",
       "31621          4.0  2021-03-16 04:17:03   \n",
       "31622          5.0  2020-10-11 12:03:06   \n",
       "31623          1.0  2019-04-09 01:48:27   \n",
       "31624          5.0  2021-07-04 02:44:25   \n",
       "31625          1.0  2021-01-07 02:36:12   \n",
       "\n",
       "                                                    text  \\\n",
       "0      Delete out at this Dave and busters was a litt...   \n",
       "1      I had an amazing time at Mr. Ed's and the food...   \n",
       "2      Took forever to get drinks. Were told there wa...   \n",
       "3      Been here twice first and last time. It takes ...   \n",
       "4      Tried to give this place one more try. It is s...   \n",
       "...                                                  ...   \n",
       "31621  Saw this spot on Yelp, we were tired and hungr...   \n",
       "31622  Holy sh*t. My favorite baker who opened and ra...   \n",
       "31623  Writing this review in hopes of alerting the p...   \n",
       "31624  Oh. My. God!!!!! This place is absolutely amaz...   \n",
       "31625  Man I don't know where to start. This place is...   \n",
       "\n",
       "                                 name                    address   latitude  \\\n",
       "0                     Dave & Buster's  1200 Poydras St, Unit 601  29.950516   \n",
       "1      Mr Ed's Oyster Bar - Bienville           512 Bienville St  29.953705   \n",
       "2                     Dave & Buster's  1200 Poydras St, Unit 601  29.950516   \n",
       "3                     Dave & Buster's  1200 Poydras St, Unit 601  29.950516   \n",
       "4                          McDonald's   3250 General Degaulle Dr  29.926163   \n",
       "...                               ...                        ...        ...   \n",
       "31621                 The Little Easy               634 Julia St  29.945644   \n",
       "31622           Celtica French Bakery      218 Robert E Lee Blvd  30.019734   \n",
       "31623                      McDonald's           2856 S Claiborne  29.941588   \n",
       "31624              14 Parishes on Oak                8227 Oak St  29.948670   \n",
       "31625                 Bobby's Seafood         9013 Jefferson Hwy  29.947208   \n",
       "\n",
       "       longitude  ...  review_count  \\\n",
       "0     -90.076204  ...           351   \n",
       "1     -90.066015  ...          1306   \n",
       "2     -90.076204  ...           351   \n",
       "3     -90.076204  ...           351   \n",
       "4     -90.022580  ...            23   \n",
       "...          ...  ...           ...   \n",
       "31621 -90.071374  ...            52   \n",
       "31622 -90.111988  ...            29   \n",
       "31623 -90.095297  ...            25   \n",
       "31624 -90.131127  ...            16   \n",
       "31625 -90.213238  ...            38   \n",
       "\n",
       "                                              attributes  \\\n",
       "0      {'HappyHour': 'True', 'GoodForKids': 'True', '...   \n",
       "1      {'BusinessAcceptsCreditCards': 'True', 'GoodFo...   \n",
       "2      {'HappyHour': 'True', 'GoodForKids': 'True', '...   \n",
       "3      {'HappyHour': 'True', 'GoodForKids': 'True', '...   \n",
       "4      {'BusinessAcceptsCreditCards': 'True', 'Restau...   \n",
       "...                                                  ...   \n",
       "31621  {'Alcohol': \"u'full_bar'\", 'CoatCheck': 'False...   \n",
       "31622  {'BusinessParking': \"{'garage': False, 'street...   \n",
       "31623  {'GoodForKids': 'True', 'RestaurantsAttire': \"...   \n",
       "31624  {'BusinessParking': \"{u'valet': False, u'garag...   \n",
       "31625  {'RestaurantsTakeOut': 'True', 'GoodForKids': ...   \n",
       "\n",
       "                                              categories  \\\n",
       "0      Adult Entertainment, Sports Bars, Restaurants,...   \n",
       "1      Cajun/Creole, Southern, French, Salad, Restaur...   \n",
       "2      Adult Entertainment, Sports Bars, Restaurants,...   \n",
       "3      Adult Entertainment, Sports Bars, Restaurants,...   \n",
       "4      Food, Restaurants, Sandwiches, Coffee & Tea, B...   \n",
       "...                                                  ...   \n",
       "31621  Restaurants, Nightlife, Sandwiches, Sports Bar...   \n",
       "31622  Food, Restaurants, Bakeries, Breakfast & Brunc...   \n",
       "31623  Restaurants, Coffee & Tea, Fast Food, Food, Bu...   \n",
       "31624                             Caribbean, Restaurants   \n",
       "31625  Wholesale Stores, Seafood Markets, Seafood, Re...   \n",
       "\n",
       "                                                   hours user_name  \\\n",
       "0      {'Monday': '0:0-0:0', 'Tuesday': '10:0-23:59',...    Farrah   \n",
       "1      {'Monday': '0:0-0:0', 'Tuesday': '11:0-21:0', ...    Farrah   \n",
       "2      {'Monday': '0:0-0:0', 'Tuesday': '10:0-23:59',...      Troy   \n",
       "3      {'Monday': '0:0-0:0', 'Tuesday': '10:0-23:59',...      Troy   \n",
       "4      {'Monday': '0:0-0:0', 'Tuesday': '0:0-0:0', 'W...      Troy   \n",
       "...                                                  ...       ...   \n",
       "31621  {'Monday': '11:0-0:0', 'Tuesday': '11:0-0:0', ...  Sheronda   \n",
       "31622  {'Wednesday': '7:0-15:0', 'Thursday': '7:0-15:...  Jennifer   \n",
       "31623  {'Monday': '0:0-0:0', 'Tuesday': '0:0-0:0', 'W...     Peggy   \n",
       "31624  {'Tuesday': '16:0-21:0', 'Wednesday': '16:0-21...      Dave   \n",
       "31625  {'Monday': '9:0-15:0', 'Tuesday': '9:0-18:0', ...         J   \n",
       "\n",
       "                                                 friends user_stars  \\\n",
       "0      iLYJxAravwLXXKj7GLHo9g, zY9qmzJ4QCxejVAvkFiDyw...       3.94   \n",
       "1      iLYJxAravwLXXKj7GLHo9g, zY9qmzJ4QCxejVAvkFiDyw...       3.94   \n",
       "2      3JXtg9i8cJtyxJEecanUyw, px1O23z7UNygl7h1Zp0Blw...       2.55   \n",
       "3      3JXtg9i8cJtyxJEecanUyw, px1O23z7UNygl7h1Zp0Blw...       2.55   \n",
       "4      3JXtg9i8cJtyxJEecanUyw, px1O23z7UNygl7h1Zp0Blw...       2.55   \n",
       "...                                                  ...        ...   \n",
       "31621  v2ErOtodrXqL6tOV9LBpYw, V-Iv7rt3301xvg0di3dTxg...       3.73   \n",
       "31622  QaLpN4czjYMhNms2r45Iwg, RAdOVAGwzJG_ul8T46AR4A...       3.92   \n",
       "31623  WCPMwOPWjAcx4ywH9oS_aQ, GiSBpB-6turlKtTaEn0fSA...       3.13   \n",
       "31624                             8Nj4UhJkbfx48jPxqpir-g       1.94   \n",
       "31625  eRnjT3qDWIZr8d96KgD3CA, jjGAwrzQXTL61PepH4PcjQ...       2.76   \n",
       "\n",
       "                                         additional_text userIntID  restIntID  \n",
       "0      When you dine in, the food is delivered to you...      1949        914  \n",
       "1      For faster seating, use the app to check in be...      1949        447  \n",
       "2      Their hours have changed for the fall 2019...1...      9378        914  \n",
       "3                                   Until we meet again!      9378        914  \n",
       "4                     they have the impossible burger!!!      9378       1754  \n",
       "...                                                  ...       ...        ...  \n",
       "31621                                                NaN      7291         22  \n",
       "31622                                                NaN     10705        259  \n",
       "31623                                                NaN       336        567  \n",
       "31624                                                NaN      6831       1288  \n",
       "31625                                                NaN      6549       1787  \n",
       "\n",
       "[31626 rows x 21 columns]"
      ]
     },
     "execution_count": 211,
     "metadata": {},
     "output_type": "execute_result"
    }
   ],
   "source": [
    "restEncoder = LabelEncoder()\n",
    "restIID = restEncoder.fit_transform(yelp[\"business_id\"])\n",
    "yelp[\"restIntID\"]=pd.Series(restIID)\n",
    "yelp"
   ]
  },
  {
   "cell_type": "code",
   "execution_count": 212,
   "metadata": {},
   "outputs": [],
   "source": [
    "yelp[['userIntID', 'user_id']].to_csv('userid_map.csv', index = False)\n",
    "yelp[['restIntID', 'business_id']].to_csv('restid_map.csv', index = False)"
   ]
  },
  {
   "cell_type": "code",
   "execution_count": 213,
   "metadata": {
    "colab": {
     "base_uri": "https://localhost:8080/",
     "height": 1000
    },
    "id": "1RCHpI_RfK-1",
    "outputId": "508388c5-42c9-46bb-e4d7-e7fb593b8872",
    "scrolled": true
   },
   "outputs": [],
   "source": [
    "# oneYelp=pd.concat([yelp, attDF, timeDF, catDF], axis = 1)\n",
    "oneYelp=pd.concat([yelp, attDF], axis = 1)"
   ]
  },
  {
   "cell_type": "markdown",
   "metadata": {
    "id": "5p-yuO6UsNxa"
   },
   "source": [
    "# Data for model"
   ]
  },
  {
   "cell_type": "code",
   "execution_count": 214,
   "metadata": {
    "colab": {
     "base_uri": "https://localhost:8080/"
    },
    "id": "2AtAuBO6vesX",
    "outputId": "ebe4cfb2-16de-4701-c4fc-0e7fffb35df8"
   },
   "outputs": [
    {
     "data": {
      "text/plain": [
       "userIntID        int64\n",
       "restIntID        int64\n",
       "review_star    float64\n",
       "dtype: object"
      ]
     },
     "execution_count": 214,
     "metadata": {},
     "output_type": "execute_result"
    }
   ],
   "source": [
    "userRest = oneYelp[[\"userIntID\", \"restIntID\", \"review_star\"]]\n",
    "userRest.dtypes"
   ]
  },
  {
   "cell_type": "code",
   "execution_count": 215,
   "metadata": {
    "colab": {
     "base_uri": "https://localhost:8080/"
    },
    "id": "5ZiAq0tisM7r",
    "outputId": "ce71a954-e915-4a51-b610-dd23cee6f7d3"
   },
   "outputs": [
    {
     "data": {
      "text/plain": [
       "attributes.HappyHour                         bool\n",
       "attributes.GoodForKids                       bool\n",
       "attributes.BikeParking                       bool\n",
       "attributes.CoatCheck                         bool\n",
       "attributes.RestaurantsTableService           bool\n",
       "                                             ... \n",
       "attributes.DietaryRestrictions.vegan         bool\n",
       "attributes.DietaryRestrictions.kosher        bool\n",
       "attributes.DietaryRestrictions.halal         bool\n",
       "attributes.DietaryRestrictions.soy-free      bool\n",
       "attributes.DietaryRestrictions.vegetarian    bool\n",
       "Length: 68, dtype: object"
      ]
     },
     "execution_count": 215,
     "metadata": {},
     "output_type": "execute_result"
    }
   ],
   "source": [
    "feature_DF = oneYelp.select_dtypes(include=bool)\n",
    "feature_DF.dtypes"
   ]
  },
  {
   "cell_type": "code",
   "execution_count": 216,
   "metadata": {
    "colab": {
     "base_uri": "https://localhost:8080/"
    },
    "id": "o54m9T-UzP72",
    "outputId": "4d9e105b-ac97-458a-9d83-15c1e10a880d"
   },
   "outputs": [
    {
     "data": {
      "text/plain": [
       "Index(['attributes.GoodForKids', 'attributes.BikeParking',\n",
       "       'attributes.RestaurantsTableService', 'attributes.HasTV',\n",
       "       'attributes.BusinessAcceptsCreditCards',\n",
       "       'attributes.RestaurantsTakeOut', 'attributes.RestaurantsGoodForGroups',\n",
       "       'attributes.BusinessParking.street'],\n",
       "      dtype='object')"
      ]
     },
     "execution_count": 216,
     "metadata": {},
     "output_type": "execute_result"
    }
   ],
   "source": [
    "(feature_DF.sum()>19000).loc[feature_DF.sum()>19000].index[:-1]"
   ]
  },
  {
   "cell_type": "code",
   "execution_count": 217,
   "metadata": {
    "id": "U-vSJV_ax-L5"
   },
   "outputs": [],
   "source": [
    "feature_DF=feature_DF[(feature_DF.sum()>19000).loc[feature_DF.sum()>19000].index[:-1]]"
   ]
  },
  {
   "cell_type": "code",
   "execution_count": 218,
   "metadata": {
    "id": "7JjB0TIGJTbt"
   },
   "outputs": [],
   "source": [
    "feature_DF=feature_DF.astype(int)"
   ]
  },
  {
   "cell_type": "code",
   "execution_count": 219,
   "metadata": {
    "colab": {
     "base_uri": "https://localhost:8080/",
     "height": 488
    },
    "id": "-HjNsL0Cv5Hn",
    "outputId": "db7602e1-2678-4c0a-bcfc-c80874002d2a",
    "scrolled": true
   },
   "outputs": [
    {
     "data": {
      "text/html": [
       "<div>\n",
       "<style scoped>\n",
       "    .dataframe tbody tr th:only-of-type {\n",
       "        vertical-align: middle;\n",
       "    }\n",
       "\n",
       "    .dataframe tbody tr th {\n",
       "        vertical-align: top;\n",
       "    }\n",
       "\n",
       "    .dataframe thead th {\n",
       "        text-align: right;\n",
       "    }\n",
       "</style>\n",
       "<table border=\"1\" class=\"dataframe\">\n",
       "  <thead>\n",
       "    <tr style=\"text-align: right;\">\n",
       "      <th></th>\n",
       "      <th>userIntID</th>\n",
       "      <th>restIntID</th>\n",
       "      <th>review_star</th>\n",
       "      <th>attributes.GoodForKids</th>\n",
       "      <th>attributes.BikeParking</th>\n",
       "      <th>attributes.RestaurantsTableService</th>\n",
       "      <th>attributes.HasTV</th>\n",
       "      <th>attributes.BusinessAcceptsCreditCards</th>\n",
       "      <th>attributes.RestaurantsTakeOut</th>\n",
       "      <th>attributes.RestaurantsGoodForGroups</th>\n",
       "      <th>attributes.BusinessParking.street</th>\n",
       "    </tr>\n",
       "  </thead>\n",
       "  <tbody>\n",
       "    <tr>\n",
       "      <th>0</th>\n",
       "      <td>1949</td>\n",
       "      <td>914</td>\n",
       "      <td>3.0</td>\n",
       "      <td>1</td>\n",
       "      <td>1</td>\n",
       "      <td>1</td>\n",
       "      <td>1</td>\n",
       "      <td>1</td>\n",
       "      <td>1</td>\n",
       "      <td>1</td>\n",
       "      <td>0</td>\n",
       "    </tr>\n",
       "    <tr>\n",
       "      <th>1</th>\n",
       "      <td>1949</td>\n",
       "      <td>447</td>\n",
       "      <td>5.0</td>\n",
       "      <td>1</td>\n",
       "      <td>1</td>\n",
       "      <td>1</td>\n",
       "      <td>1</td>\n",
       "      <td>1</td>\n",
       "      <td>1</td>\n",
       "      <td>1</td>\n",
       "      <td>1</td>\n",
       "    </tr>\n",
       "    <tr>\n",
       "      <th>2</th>\n",
       "      <td>9378</td>\n",
       "      <td>914</td>\n",
       "      <td>1.0</td>\n",
       "      <td>1</td>\n",
       "      <td>1</td>\n",
       "      <td>1</td>\n",
       "      <td>1</td>\n",
       "      <td>1</td>\n",
       "      <td>1</td>\n",
       "      <td>1</td>\n",
       "      <td>0</td>\n",
       "    </tr>\n",
       "    <tr>\n",
       "      <th>3</th>\n",
       "      <td>9378</td>\n",
       "      <td>914</td>\n",
       "      <td>1.0</td>\n",
       "      <td>1</td>\n",
       "      <td>1</td>\n",
       "      <td>1</td>\n",
       "      <td>1</td>\n",
       "      <td>1</td>\n",
       "      <td>1</td>\n",
       "      <td>1</td>\n",
       "      <td>0</td>\n",
       "    </tr>\n",
       "    <tr>\n",
       "      <th>4</th>\n",
       "      <td>9378</td>\n",
       "      <td>1754</td>\n",
       "      <td>1.0</td>\n",
       "      <td>1</td>\n",
       "      <td>0</td>\n",
       "      <td>0</td>\n",
       "      <td>1</td>\n",
       "      <td>1</td>\n",
       "      <td>1</td>\n",
       "      <td>1</td>\n",
       "      <td>0</td>\n",
       "    </tr>\n",
       "    <tr>\n",
       "      <th>...</th>\n",
       "      <td>...</td>\n",
       "      <td>...</td>\n",
       "      <td>...</td>\n",
       "      <td>...</td>\n",
       "      <td>...</td>\n",
       "      <td>...</td>\n",
       "      <td>...</td>\n",
       "      <td>...</td>\n",
       "      <td>...</td>\n",
       "      <td>...</td>\n",
       "      <td>...</td>\n",
       "    </tr>\n",
       "    <tr>\n",
       "      <th>31621</th>\n",
       "      <td>7291</td>\n",
       "      <td>22</td>\n",
       "      <td>4.0</td>\n",
       "      <td>0</td>\n",
       "      <td>1</td>\n",
       "      <td>1</td>\n",
       "      <td>1</td>\n",
       "      <td>1</td>\n",
       "      <td>1</td>\n",
       "      <td>0</td>\n",
       "      <td>1</td>\n",
       "    </tr>\n",
       "    <tr>\n",
       "      <th>31622</th>\n",
       "      <td>10705</td>\n",
       "      <td>259</td>\n",
       "      <td>5.0</td>\n",
       "      <td>0</td>\n",
       "      <td>0</td>\n",
       "      <td>0</td>\n",
       "      <td>0</td>\n",
       "      <td>0</td>\n",
       "      <td>0</td>\n",
       "      <td>0</td>\n",
       "      <td>0</td>\n",
       "    </tr>\n",
       "    <tr>\n",
       "      <th>31623</th>\n",
       "      <td>336</td>\n",
       "      <td>567</td>\n",
       "      <td>1.0</td>\n",
       "      <td>1</td>\n",
       "      <td>0</td>\n",
       "      <td>0</td>\n",
       "      <td>1</td>\n",
       "      <td>1</td>\n",
       "      <td>1</td>\n",
       "      <td>1</td>\n",
       "      <td>0</td>\n",
       "    </tr>\n",
       "    <tr>\n",
       "      <th>31624</th>\n",
       "      <td>6831</td>\n",
       "      <td>1288</td>\n",
       "      <td>5.0</td>\n",
       "      <td>0</td>\n",
       "      <td>0</td>\n",
       "      <td>0</td>\n",
       "      <td>0</td>\n",
       "      <td>0</td>\n",
       "      <td>1</td>\n",
       "      <td>0</td>\n",
       "      <td>1</td>\n",
       "    </tr>\n",
       "    <tr>\n",
       "      <th>31625</th>\n",
       "      <td>6549</td>\n",
       "      <td>1787</td>\n",
       "      <td>1.0</td>\n",
       "      <td>1</td>\n",
       "      <td>1</td>\n",
       "      <td>0</td>\n",
       "      <td>1</td>\n",
       "      <td>1</td>\n",
       "      <td>1</td>\n",
       "      <td>0</td>\n",
       "      <td>0</td>\n",
       "    </tr>\n",
       "  </tbody>\n",
       "</table>\n",
       "<p>31626 rows × 11 columns</p>\n",
       "</div>"
      ],
      "text/plain": [
       "       userIntID  restIntID  review_star  attributes.GoodForKids  \\\n",
       "0           1949        914          3.0                       1   \n",
       "1           1949        447          5.0                       1   \n",
       "2           9378        914          1.0                       1   \n",
       "3           9378        914          1.0                       1   \n",
       "4           9378       1754          1.0                       1   \n",
       "...          ...        ...          ...                     ...   \n",
       "31621       7291         22          4.0                       0   \n",
       "31622      10705        259          5.0                       0   \n",
       "31623        336        567          1.0                       1   \n",
       "31624       6831       1288          5.0                       0   \n",
       "31625       6549       1787          1.0                       1   \n",
       "\n",
       "       attributes.BikeParking  attributes.RestaurantsTableService  \\\n",
       "0                           1                                   1   \n",
       "1                           1                                   1   \n",
       "2                           1                                   1   \n",
       "3                           1                                   1   \n",
       "4                           0                                   0   \n",
       "...                       ...                                 ...   \n",
       "31621                       1                                   1   \n",
       "31622                       0                                   0   \n",
       "31623                       0                                   0   \n",
       "31624                       0                                   0   \n",
       "31625                       1                                   0   \n",
       "\n",
       "       attributes.HasTV  attributes.BusinessAcceptsCreditCards  \\\n",
       "0                     1                                      1   \n",
       "1                     1                                      1   \n",
       "2                     1                                      1   \n",
       "3                     1                                      1   \n",
       "4                     1                                      1   \n",
       "...                 ...                                    ...   \n",
       "31621                 1                                      1   \n",
       "31622                 0                                      0   \n",
       "31623                 1                                      1   \n",
       "31624                 0                                      0   \n",
       "31625                 1                                      1   \n",
       "\n",
       "       attributes.RestaurantsTakeOut  attributes.RestaurantsGoodForGroups  \\\n",
       "0                                  1                                    1   \n",
       "1                                  1                                    1   \n",
       "2                                  1                                    1   \n",
       "3                                  1                                    1   \n",
       "4                                  1                                    1   \n",
       "...                              ...                                  ...   \n",
       "31621                              1                                    0   \n",
       "31622                              0                                    0   \n",
       "31623                              1                                    1   \n",
       "31624                              1                                    0   \n",
       "31625                              1                                    0   \n",
       "\n",
       "       attributes.BusinessParking.street  \n",
       "0                                      0  \n",
       "1                                      1  \n",
       "2                                      0  \n",
       "3                                      0  \n",
       "4                                      0  \n",
       "...                                  ...  \n",
       "31621                                  1  \n",
       "31622                                  0  \n",
       "31623                                  0  \n",
       "31624                                  1  \n",
       "31625                                  0  \n",
       "\n",
       "[31626 rows x 11 columns]"
      ]
     },
     "execution_count": 219,
     "metadata": {},
     "output_type": "execute_result"
    }
   ],
   "source": [
    "model_DF = pd.concat([userRest, feature_DF], axis=1)\n",
    "model_DF"
   ]
  },
  {
   "cell_type": "code",
   "execution_count": 220,
   "metadata": {},
   "outputs": [],
   "source": [
    "rr = model_DF[['userIntID', 'restIntID', 'review_star']]\n",
    "rrr = model_DF.iloc[:, 1:].drop('review_star', axis = 1)"
   ]
  },
  {
   "cell_type": "code",
   "execution_count": 221,
   "metadata": {},
   "outputs": [
    {
     "data": {
      "text/html": [
       "<div>\n",
       "<style scoped>\n",
       "    .dataframe tbody tr th:only-of-type {\n",
       "        vertical-align: middle;\n",
       "    }\n",
       "\n",
       "    .dataframe tbody tr th {\n",
       "        vertical-align: top;\n",
       "    }\n",
       "\n",
       "    .dataframe thead th {\n",
       "        text-align: right;\n",
       "    }\n",
       "</style>\n",
       "<table border=\"1\" class=\"dataframe\">\n",
       "  <thead>\n",
       "    <tr style=\"text-align: right;\">\n",
       "      <th></th>\n",
       "      <th>restIntID</th>\n",
       "      <th>attributes.GoodForKids</th>\n",
       "      <th>attributes.BikeParking</th>\n",
       "      <th>attributes.RestaurantsTableService</th>\n",
       "      <th>attributes.HasTV</th>\n",
       "      <th>attributes.BusinessAcceptsCreditCards</th>\n",
       "      <th>attributes.RestaurantsTakeOut</th>\n",
       "      <th>attributes.RestaurantsGoodForGroups</th>\n",
       "      <th>attributes.BusinessParking.street</th>\n",
       "    </tr>\n",
       "  </thead>\n",
       "  <tbody>\n",
       "    <tr>\n",
       "      <th>0</th>\n",
       "      <td>914</td>\n",
       "      <td>1</td>\n",
       "      <td>1</td>\n",
       "      <td>1</td>\n",
       "      <td>1</td>\n",
       "      <td>1</td>\n",
       "      <td>1</td>\n",
       "      <td>1</td>\n",
       "      <td>0</td>\n",
       "    </tr>\n",
       "    <tr>\n",
       "      <th>1</th>\n",
       "      <td>447</td>\n",
       "      <td>1</td>\n",
       "      <td>1</td>\n",
       "      <td>1</td>\n",
       "      <td>1</td>\n",
       "      <td>1</td>\n",
       "      <td>1</td>\n",
       "      <td>1</td>\n",
       "      <td>1</td>\n",
       "    </tr>\n",
       "    <tr>\n",
       "      <th>2</th>\n",
       "      <td>914</td>\n",
       "      <td>1</td>\n",
       "      <td>1</td>\n",
       "      <td>1</td>\n",
       "      <td>1</td>\n",
       "      <td>1</td>\n",
       "      <td>1</td>\n",
       "      <td>1</td>\n",
       "      <td>0</td>\n",
       "    </tr>\n",
       "    <tr>\n",
       "      <th>3</th>\n",
       "      <td>914</td>\n",
       "      <td>1</td>\n",
       "      <td>1</td>\n",
       "      <td>1</td>\n",
       "      <td>1</td>\n",
       "      <td>1</td>\n",
       "      <td>1</td>\n",
       "      <td>1</td>\n",
       "      <td>0</td>\n",
       "    </tr>\n",
       "    <tr>\n",
       "      <th>4</th>\n",
       "      <td>1754</td>\n",
       "      <td>1</td>\n",
       "      <td>0</td>\n",
       "      <td>0</td>\n",
       "      <td>1</td>\n",
       "      <td>1</td>\n",
       "      <td>1</td>\n",
       "      <td>1</td>\n",
       "      <td>0</td>\n",
       "    </tr>\n",
       "    <tr>\n",
       "      <th>...</th>\n",
       "      <td>...</td>\n",
       "      <td>...</td>\n",
       "      <td>...</td>\n",
       "      <td>...</td>\n",
       "      <td>...</td>\n",
       "      <td>...</td>\n",
       "      <td>...</td>\n",
       "      <td>...</td>\n",
       "      <td>...</td>\n",
       "    </tr>\n",
       "    <tr>\n",
       "      <th>31621</th>\n",
       "      <td>22</td>\n",
       "      <td>0</td>\n",
       "      <td>1</td>\n",
       "      <td>1</td>\n",
       "      <td>1</td>\n",
       "      <td>1</td>\n",
       "      <td>1</td>\n",
       "      <td>0</td>\n",
       "      <td>1</td>\n",
       "    </tr>\n",
       "    <tr>\n",
       "      <th>31622</th>\n",
       "      <td>259</td>\n",
       "      <td>0</td>\n",
       "      <td>0</td>\n",
       "      <td>0</td>\n",
       "      <td>0</td>\n",
       "      <td>0</td>\n",
       "      <td>0</td>\n",
       "      <td>0</td>\n",
       "      <td>0</td>\n",
       "    </tr>\n",
       "    <tr>\n",
       "      <th>31623</th>\n",
       "      <td>567</td>\n",
       "      <td>1</td>\n",
       "      <td>0</td>\n",
       "      <td>0</td>\n",
       "      <td>1</td>\n",
       "      <td>1</td>\n",
       "      <td>1</td>\n",
       "      <td>1</td>\n",
       "      <td>0</td>\n",
       "    </tr>\n",
       "    <tr>\n",
       "      <th>31624</th>\n",
       "      <td>1288</td>\n",
       "      <td>0</td>\n",
       "      <td>0</td>\n",
       "      <td>0</td>\n",
       "      <td>0</td>\n",
       "      <td>0</td>\n",
       "      <td>1</td>\n",
       "      <td>0</td>\n",
       "      <td>1</td>\n",
       "    </tr>\n",
       "    <tr>\n",
       "      <th>31625</th>\n",
       "      <td>1787</td>\n",
       "      <td>1</td>\n",
       "      <td>1</td>\n",
       "      <td>0</td>\n",
       "      <td>1</td>\n",
       "      <td>1</td>\n",
       "      <td>1</td>\n",
       "      <td>0</td>\n",
       "      <td>0</td>\n",
       "    </tr>\n",
       "  </tbody>\n",
       "</table>\n",
       "<p>31626 rows × 9 columns</p>\n",
       "</div>"
      ],
      "text/plain": [
       "       restIntID  attributes.GoodForKids  attributes.BikeParking  \\\n",
       "0            914                       1                       1   \n",
       "1            447                       1                       1   \n",
       "2            914                       1                       1   \n",
       "3            914                       1                       1   \n",
       "4           1754                       1                       0   \n",
       "...          ...                     ...                     ...   \n",
       "31621         22                       0                       1   \n",
       "31622        259                       0                       0   \n",
       "31623        567                       1                       0   \n",
       "31624       1288                       0                       0   \n",
       "31625       1787                       1                       1   \n",
       "\n",
       "       attributes.RestaurantsTableService  attributes.HasTV  \\\n",
       "0                                       1                 1   \n",
       "1                                       1                 1   \n",
       "2                                       1                 1   \n",
       "3                                       1                 1   \n",
       "4                                       0                 1   \n",
       "...                                   ...               ...   \n",
       "31621                                   1                 1   \n",
       "31622                                   0                 0   \n",
       "31623                                   0                 1   \n",
       "31624                                   0                 0   \n",
       "31625                                   0                 1   \n",
       "\n",
       "       attributes.BusinessAcceptsCreditCards  attributes.RestaurantsTakeOut  \\\n",
       "0                                          1                              1   \n",
       "1                                          1                              1   \n",
       "2                                          1                              1   \n",
       "3                                          1                              1   \n",
       "4                                          1                              1   \n",
       "...                                      ...                            ...   \n",
       "31621                                      1                              1   \n",
       "31622                                      0                              0   \n",
       "31623                                      1                              1   \n",
       "31624                                      0                              1   \n",
       "31625                                      1                              1   \n",
       "\n",
       "       attributes.RestaurantsGoodForGroups  attributes.BusinessParking.street  \n",
       "0                                        1                                  0  \n",
       "1                                        1                                  1  \n",
       "2                                        1                                  0  \n",
       "3                                        1                                  0  \n",
       "4                                        1                                  0  \n",
       "...                                    ...                                ...  \n",
       "31621                                    0                                  1  \n",
       "31622                                    0                                  0  \n",
       "31623                                    1                                  0  \n",
       "31624                                    0                                  1  \n",
       "31625                                    0                                  0  \n",
       "\n",
       "[31626 rows x 9 columns]"
      ]
     },
     "execution_count": 221,
     "metadata": {},
     "output_type": "execute_result"
    }
   ],
   "source": [
    "rrr"
   ]
  },
  {
   "cell_type": "markdown",
   "metadata": {
    "id": "iUjwUhbBbAJx"
   },
   "source": [
    "# system"
   ]
  },
  {
   "cell_type": "code",
   "execution_count": 222,
   "metadata": {
    "id": "pdIxXloWy2RD"
   },
   "outputs": [],
   "source": [
    "# PyTorch\n",
    "import torch\n",
    "import torch.nn as nn\n",
    "from torch.utils.data import Dataset, DataLoader\n",
    "\n",
    "# For data preprocess\n",
    "import numpy as np\n",
    "import csv\n",
    "import os\n",
    "\n",
    "# For plotting\n",
    "import matplotlib.pyplot as plt\n",
    "from matplotlib.pyplot import figure\n",
    "\n",
    "import pandas as pd\n",
    "import math\n",
    "import datetime\n",
    "from tqdm.auto import tqdm\n"
   ]
  },
  {
   "cell_type": "code",
   "execution_count": 223,
   "metadata": {
    "id": "tY69t7nJF7Es"
   },
   "outputs": [],
   "source": [
    "# change str id to int id\n",
    "def ids2i(df,sid,iid):\n",
    "    id=df[[sid,iid]].drop_duplicates()\n",
    "    id=id.set_index(iid)[sid].to_dict()\n",
    "    id=dict(sorted(id.items()))\n",
    "    return id\n",
    "\n",
    "userIDs2i=ids2i(yelp,\"user_id\",\"userIntID\")\n",
    "restIDs2i=ids2i(yelp,\"business_id\",\"restIntID\")"
   ]
  },
  {
   "cell_type": "code",
   "execution_count": 224,
   "metadata": {
    "colab": {
     "base_uri": "https://localhost:8080/"
    },
    "id": "O8ubXdDZLGS2",
    "outputId": "3b054fe4-0d87-4dfb-a696-8f9e724cf042"
   },
   "outputs": [
    {
     "data": {
      "text/plain": [
       "attributes.GoodForKids                   1.0\n",
       "attributes.BikeParking                   1.0\n",
       "attributes.RestaurantsTableService       1.0\n",
       "attributes.HasTV                         1.0\n",
       "attributes.BusinessAcceptsCreditCards    1.0\n",
       "attributes.RestaurantsTakeOut            1.0\n",
       "attributes.RestaurantsGoodForGroups      1.0\n",
       "attributes.BusinessParking.street        0.0\n",
       "Name: 3, dtype: float64"
      ]
     },
     "execution_count": 224,
     "metadata": {},
     "output_type": "execute_result"
    }
   ],
   "source": [
    "model_DF.iloc[3][3:]"
   ]
  },
  {
   "cell_type": "code",
   "execution_count": 225,
   "metadata": {
    "id": "mqumfDMka_eR"
   },
   "outputs": [],
   "source": [
    "class userData(Dataset):\n",
    "    def __init__(self, data):\n",
    "        self.data=data\n",
    "\n",
    "    def __len__(self):\n",
    "        return len(self.data)\n",
    "\n",
    "    def __getitem__(self, index):\n",
    "        row=self.data.iloc[index]\n",
    "        user=torch.tensor(row[\"userIntID\"], dtype=torch.long)\n",
    "        restaurant = torch.tensor(row[\"restIntID\"], dtype=torch.long)\n",
    "        rating = torch.tensor(row[\"review_star\"], dtype=torch.float32)\n",
    "        attributes = torch.tensor(row[3:], dtype=torch.long)\n",
    "\n",
    "        return user, restaurant, rating, attributes"
   ]
  },
  {
   "cell_type": "code",
   "execution_count": 226,
   "metadata": {
    "id": "rfEhu4GpFAbi"
   },
   "outputs": [],
   "source": [
    "def dataloader(data, batch_size, shuffle, n_jobs=0):\n",
    "    dataset = userData(data)\n",
    "    dataloader = DataLoader(\n",
    "        dataset, batch_size,\n",
    "        shuffle, drop_last=False,\n",
    "        num_workers=n_jobs, pin_memory=True)\n",
    "    return dataloader"
   ]
  },
  {
   "cell_type": "code",
   "execution_count": 227,
   "metadata": {
    "id": "Lep744bL_OmN"
   },
   "outputs": [],
   "source": [
    "yelp_train, yelp_test=train_test_split(model_DF, test_size=0.2, random_state=4016)\n",
    "\n",
    "batch_size=128\n",
    "\n",
    "trainLoader = dataloader(yelp_train, batch_size=batch_size, shuffle=True)\n",
    "valloader = dataloader(yelp_test, batch_size=batch_size, shuffle=False)"
   ]
  },
  {
   "cell_type": "code",
   "execution_count": 228,
   "metadata": {
    "id": "oc-A0keflumo"
   },
   "outputs": [],
   "source": [
    "class ratingModel(nn.Module):\n",
    "    def __init__(self, n_users, n_restaurants, n_attributes, embedding_dim=30, embedding_dropout=0.3):\n",
    "        super(ratingModel, self).__init__()\n",
    "\n",
    "        self.user_embedding = nn.Embedding(n_users, embedding_dim)\n",
    "        self.restaurant_embedding = nn.Embedding(n_restaurants, embedding_dim)\n",
    "        self.attributes_embedding = nn.Embedding(n_attributes, embedding_dim)\n",
    "        \n",
    "        self.fc = nn.Sequential(\n",
    "          nn.Linear(300, 600),\n",
    "          nn.BatchNorm1d(600),\n",
    "          nn.LeakyReLU(),\n",
    "          nn.Dropout(0.5),\n",
    "          nn.Linear(600, 300),\n",
    "          nn.BatchNorm1d(300),\n",
    "          nn.LeakyReLU(),\n",
    "          nn.Dropout(0.5),\n",
    "          nn.Linear(300,1)\n",
    "        )\n",
    "        \n",
    "        self.drop = nn.Dropout(embedding_dropout)\n",
    "\n",
    "    def forward(self, user, restaurant, attributes, minmax=None):\n",
    "        user_embed = self.user_embedding(user)\n",
    "        restaurant_embed = self.restaurant_embedding(restaurant)\n",
    "        attributes_embed = self.attributes_embedding(attributes)\n",
    "        #print(restaurant_embed.shape, len(restaurant))\n",
    "        expected_size = user_embed.shape[0]  # Compute expected size of concatenation dimension\n",
    "        attributes_embed = attributes_embed.reshape(expected_size, -1)  # Adjust size of x3 to match expected size\n",
    "        x = torch.cat([user_embed, restaurant_embed, attributes_embed], dim=-1)\n",
    "        x = self.drop(x)\n",
    "        out = torch.sigmoid(self.fc(x))\n",
    "        if minmax is not None:\n",
    "            min_rating, max_rating = minmax\n",
    "            out = out*(max_rating - min_rating + 1) + min_rating - 0.5\n",
    "        return out"
   ]
  },
  {
   "cell_type": "markdown",
   "metadata": {
    "id": "UkIlZmDoHYWV"
   },
   "source": [
    "#train"
   ]
  },
  {
   "cell_type": "code",
   "execution_count": 229,
   "metadata": {
    "colab": {
     "base_uri": "https://localhost:8080/"
    },
    "id": "PzAkWUDvKZC0",
    "outputId": "c85ee439-9aa1-4edb-a252-b4c041652dc5"
   },
   "outputs": [
    {
     "data": {
      "text/plain": [
       "(11024, 1829, 8)"
      ]
     },
     "execution_count": 229,
     "metadata": {},
     "output_type": "execute_result"
    }
   ],
   "source": [
    "n_user = len(userIDs2i)\n",
    "n_rest = len(restIDs2i)\n",
    "n_attr = model_DF.shape[1]-3\n",
    "\n",
    "n_user, n_rest, n_attr"
   ]
  },
  {
   "cell_type": "code",
   "execution_count": 230,
   "metadata": {
    "colab": {
     "base_uri": "https://localhost:8080/"
    },
    "id": "u2wsLRBjMuUq",
    "outputId": "79e7f5cb-db47-4223-fd5d-4abea0839e59"
   },
   "outputs": [
    {
     "data": {
      "application/vnd.jupyter.widget-view+json": {
       "model_id": "27e4ae3a1feb44c2a7d87ed34399ad1b",
       "version_major": 2,
       "version_minor": 0
      },
      "text/plain": [
       "  0%|          | 0/198 [00:00<?, ?it/s]"
      ]
     },
     "metadata": {},
     "output_type": "display_data"
    },
    {
     "name": "stderr",
     "output_type": "stream",
     "text": [
      "/tmp/ipykernel_636875/2416465063.py:10: DeprecationWarning: an integer is required (got type numpy.float64).  Implicit conversion to integers using __int__ is deprecated, and may be removed in a future version of Python.\n",
      "  user=torch.tensor(row[\"userIntID\"], dtype=torch.long)\n",
      "/tmp/ipykernel_636875/2416465063.py:11: DeprecationWarning: an integer is required (got type numpy.float64).  Implicit conversion to integers using __int__ is deprecated, and may be removed in a future version of Python.\n",
      "  restaurant = torch.tensor(row[\"restIntID\"], dtype=torch.long)\n",
      "/tmp/ipykernel_636875/2416465063.py:13: DeprecationWarning: an integer is required (got type float).  Implicit conversion to integers using __int__ is deprecated, and may be removed in a future version of Python.\n",
      "  attributes = torch.tensor(row[3:], dtype=torch.long)\n"
     ]
    },
    {
     "name": "stdout",
     "output_type": "stream",
     "text": [
      "Epoch 1/10, Train Loss: 1.5702389436538773, Train Accuracy: 0.30960474308300395\n"
     ]
    },
    {
     "data": {
      "application/vnd.jupyter.widget-view+json": {
       "model_id": "fde719a1abe44bd6a20c94fa7410b8b2",
       "version_major": 2,
       "version_minor": 0
      },
      "text/plain": [
       "  0%|          | 0/50 [00:00<?, ?it/s]"
      ]
     },
     "metadata": {},
     "output_type": "display_data"
    },
    {
     "name": "stdout",
     "output_type": "stream",
     "text": [
      "Epoch 1/10, Valid Loss: 1.5387177062034607, Valid Accuracy: 0.24818210559595322\n",
      "model saved\n",
      "early_stop_cnt: 0\n"
     ]
    },
    {
     "data": {
      "application/vnd.jupyter.widget-view+json": {
       "model_id": "6340ae7e692a491ab88ddb93657da4a2",
       "version_major": 2,
       "version_minor": 0
      },
      "text/plain": [
       "  0%|          | 0/198 [00:00<?, ?it/s]"
      ]
     },
     "metadata": {},
     "output_type": "display_data"
    },
    {
     "name": "stdout",
     "output_type": "stream",
     "text": [
      "Epoch 2/10, Train Loss: 1.4358254592828077, Train Accuracy: 0.2842687747035573\n"
     ]
    },
    {
     "data": {
      "application/vnd.jupyter.widget-view+json": {
       "model_id": "39382b98fccb4dc1bf06df0b156627a9",
       "version_major": 2,
       "version_minor": 0
      },
      "text/plain": [
       "  0%|          | 0/50 [00:00<?, ?it/s]"
      ]
     },
     "metadata": {},
     "output_type": "display_data"
    },
    {
     "name": "stdout",
     "output_type": "stream",
     "text": [
      "Epoch 2/10, Valid Loss: 1.372965953350067, Valid Accuracy: 0.2725260828327537\n",
      "model saved\n",
      "early_stop_cnt: 0\n"
     ]
    },
    {
     "data": {
      "application/vnd.jupyter.widget-view+json": {
       "model_id": "e8402ae1d4024c18902ef58c98dfec13",
       "version_major": 2,
       "version_minor": 0
      },
      "text/plain": [
       "  0%|          | 0/198 [00:00<?, ?it/s]"
      ]
     },
     "metadata": {},
     "output_type": "display_data"
    },
    {
     "name": "stdout",
     "output_type": "stream",
     "text": [
      "Epoch 3/10, Train Loss: 1.4184750658695144, Train Accuracy: 0.2735573122529644\n"
     ]
    },
    {
     "data": {
      "application/vnd.jupyter.widget-view+json": {
       "model_id": "d116ac5958bf4054a2c055e4654d8e80",
       "version_major": 2,
       "version_minor": 0
      },
      "text/plain": [
       "  0%|          | 0/50 [00:00<?, ?it/s]"
      ]
     },
     "metadata": {},
     "output_type": "display_data"
    },
    {
     "name": "stdout",
     "output_type": "stream",
     "text": [
      "Epoch 3/10, Valid Loss: 1.3648840594291687, Valid Accuracy: 0.26240910527979766\n",
      "early_stop_cnt: 1\n"
     ]
    },
    {
     "data": {
      "application/vnd.jupyter.widget-view+json": {
       "model_id": "06fee39985db4bbea47543e5a2967629",
       "version_major": 2,
       "version_minor": 0
      },
      "text/plain": [
       "  0%|          | 0/198 [00:00<?, ?it/s]"
      ]
     },
     "metadata": {},
     "output_type": "display_data"
    },
    {
     "name": "stdout",
     "output_type": "stream",
     "text": [
      "Epoch 4/10, Train Loss: 1.398652659221129, Train Accuracy: 0.26628458498023716\n"
     ]
    },
    {
     "data": {
      "application/vnd.jupyter.widget-view+json": {
       "model_id": "238ffb4962684d0d8b7cc7c080bc1d31",
       "version_major": 2,
       "version_minor": 0
      },
      "text/plain": [
       "  0%|          | 0/50 [00:00<?, ?it/s]"
      ]
     },
     "metadata": {},
     "output_type": "display_data"
    },
    {
     "name": "stdout",
     "output_type": "stream",
     "text": [
      "Epoch 4/10, Valid Loss: 1.3630323791503907, Valid Accuracy: 0.26240910527979766\n",
      "early_stop_cnt: 2\n"
     ]
    },
    {
     "data": {
      "application/vnd.jupyter.widget-view+json": {
       "model_id": "545b5d7889a845d1a7da7fdb35607220",
       "version_major": 2,
       "version_minor": 0
      },
      "text/plain": [
       "  0%|          | 0/198 [00:00<?, ?it/s]"
      ]
     },
     "metadata": {},
     "output_type": "display_data"
    },
    {
     "name": "stdout",
     "output_type": "stream",
     "text": [
      "Epoch 5/10, Train Loss: 1.399209930439188, Train Accuracy: 0.26616600790513834\n"
     ]
    },
    {
     "data": {
      "application/vnd.jupyter.widget-view+json": {
       "model_id": "59c4cb3a349047b0ac4e41fc11aa8a8f",
       "version_major": 2,
       "version_minor": 0
      },
      "text/plain": [
       "  0%|          | 0/50 [00:00<?, ?it/s]"
      ]
     },
     "metadata": {},
     "output_type": "display_data"
    },
    {
     "name": "stdout",
     "output_type": "stream",
     "text": [
      "Epoch 5/10, Valid Loss: 1.3721422791481017, Valid Accuracy: 0.26240910527979766\n",
      "early_stop_cnt: 3\n"
     ]
    },
    {
     "data": {
      "application/vnd.jupyter.widget-view+json": {
       "model_id": "362ec3bb80814ff7ab0c1771f6f01a66",
       "version_major": 2,
       "version_minor": 0
      },
      "text/plain": [
       "  0%|          | 0/198 [00:00<?, ?it/s]"
      ]
     },
     "metadata": {},
     "output_type": "display_data"
    },
    {
     "name": "stdout",
     "output_type": "stream",
     "text": [
      "Epoch 6/10, Train Loss: 1.3959266811308235, Train Accuracy: 0.2659683794466403\n"
     ]
    },
    {
     "data": {
      "application/vnd.jupyter.widget-view+json": {
       "model_id": "e755a4d16d134a70927a53fa5e4d0332",
       "version_major": 2,
       "version_minor": 0
      },
      "text/plain": [
       "  0%|          | 0/50 [00:00<?, ?it/s]"
      ]
     },
     "metadata": {},
     "output_type": "display_data"
    },
    {
     "name": "stdout",
     "output_type": "stream",
     "text": [
      "Epoch 6/10, Valid Loss: 1.3579096984863281, Valid Accuracy: 0.26240910527979766\n",
      "early_stop_cnt: 4\n",
      "Early stop training after 6 epochs\n"
     ]
    }
   ],
   "source": [
    "device = \"cuda\" if torch.cuda.is_available() else \"cpu\"\n",
    "ratingPredictor = ratingModel(n_user, n_rest, n_attr).to(device)\n",
    "ratingPredictor.device = device\n",
    "\n",
    "criterion = nn.MSELoss()\n",
    "optimizer = torch.optim.Adam(ratingPredictor.parameters(), lr=3e-3, weight_decay=4e-2)\n",
    "scheduler = torch.optim.lr_scheduler.ReduceLROnPlateau(optimizer, mode=\"min\", factor=0.3, patience=10, verbose=True)\n",
    "\n",
    "n_epochs = 10\n",
    "loss_record = {\"train\": [], \"valid\": []}\n",
    "acc_record = {\"train\": [], \"valid\": []}\n",
    "\n",
    "best_acc = 0\n",
    "early_stop_when= 3\n",
    "early_stop_cnt = 0\n",
    "\n",
    "for epoch in range(n_epochs):\n",
    "  ratingPredictor.train()\n",
    "  \n",
    "  running_loss = 0\n",
    "  running_correct = 0\n",
    "  train_user = 0\n",
    "  for user, restaurant, rating, attributes in tqdm(trainLoader):\n",
    "    user, restaurant, rating, attributes = user.to(device), restaurant.to(device), rating.to(device), attributes.to(device)\n",
    "    \n",
    "    optimizer.zero_grad()\n",
    "    pred_rating = ratingPredictor(user, restaurant, attributes, minmax=(0,5)).squeeze()\n",
    "    pred_rating = pred_rating.float()\n",
    "    rating = rating.to(torch.float)\n",
    "    loss = criterion(pred_rating, rating)\n",
    "    loss.backward()\n",
    "    optimizer.step()\n",
    "    running_loss += loss.item()\n",
    "    \n",
    "    # Compute the absolute difference between predicted and ground-truth ratings\n",
    "    #print(pred_rating[0], rating[0], '######')\n",
    "    diff = torch.abs(pred_rating - rating)\n",
    "    # Check if the difference is less than or equal to \n",
    "    within_range = torch.le(diff, 0.5)\n",
    "    running_correct += within_range.sum().item()\n",
    "    #running_correct += (predicted_labels == rating).sum().item()\n",
    "    train_user += len(user)\n",
    "\n",
    "  train_loss = running_loss/len(trainLoader)\n",
    "  train_acc = running_correct/train_user\n",
    "  loss_record[\"train\"].append(train_loss)\n",
    "  acc_record[\"train\"].append(train_acc)\n",
    "\n",
    "  print(f\"Epoch {epoch + 1}/{n_epochs}, Train Loss: {train_loss}, Train Accuracy: {train_acc}\")\n",
    "\n",
    "  ratingPredictor.eval()\n",
    "  with torch.no_grad():\n",
    "    total_loss = 0\n",
    "    correct = 0\n",
    "    valid_user = 0\n",
    "    for user, restaurant, rating, attributes in tqdm(valloader):\n",
    "      user, restaurant, rating, attributes = user.to(device), restaurant.to(device), rating.to(device), attributes.to(device)\n",
    "      pred_rating = ratingPredictor(user, restaurant, attributes, minmax=(0,5)).squeeze()\n",
    "      pred_rating = pred_rating.float()\n",
    "      #pred_rating = torch.round(pred_rating)\n",
    "      rating = rating.to(torch.float)\n",
    "      loss = criterion(pred_rating, rating)\n",
    "      total_loss += loss.item()\n",
    "      # Compute the absolute difference between predicted and ground-truth ratings\n",
    "      diff = torch.abs(pred_rating - rating)\n",
    "      # Check if the difference is less than or equal to 0.5\n",
    "      within_range = torch.le(diff, 0.5)\n",
    "      correct += within_range.sum().item()\n",
    "      valid_user += len(user)\n",
    "\n",
    "    valid_loss = total_loss / len(valloader)\n",
    "    valid_acc = correct / valid_user\n",
    "    loss_record[\"valid\"].append(valid_loss)\n",
    "    acc_record[\"valid\"].append(valid_acc)\n",
    "    scheduler.step(valid_loss)\n",
    "    \n",
    "    \n",
    "\n",
    "    print(f\"Epoch {epoch + 1}/{n_epochs}, Valid Loss: {valid_loss}, Valid Accuracy: {valid_acc}\")\n",
    "    \n",
    "    if valid_acc > best_acc:\n",
    "      best_acc = valid_acc\n",
    "      early_stop_cnt = 0\n",
    "      torch.save(ratingPredictor, \"class_rating_improve.pth\")\n",
    "      print('model saved')\n",
    "    else:\n",
    "      early_stop_cnt += 1\n",
    "    \n",
    "    print(f\"early_stop_cnt: {early_stop_cnt}\")\n",
    "    if early_stop_cnt>early_stop_when:\n",
    "      print(f\"Early stop training after {epoch + 1} epochs\")\n",
    "      break"
   ]
  },
  {
   "cell_type": "code",
   "execution_count": 231,
   "metadata": {
    "id": "J8OV5cT7MuNO"
   },
   "outputs": [],
   "source": [
    "def plot_learning_curve(loss_record, title='', metrics = \"MSE loss\"):\n",
    "    ''' Plot learning curve of your DNN (train & valid loss) '''\n",
    "    total_steps = len(loss_record['train'])\n",
    "    x_1 = range(total_steps)\n",
    "    x_2 = x_1[::len(loss_record['train']) // len(loss_record['valid'])]\n",
    "    figure(figsize=(6, 4))\n",
    "    plt.plot(x_1, loss_record['train'], c='tab:red', label='train')\n",
    "    plt.plot(x_2, loss_record['valid'], c='tab:cyan', label='valid')\n",
    "    plt.xlabel('Training steps')\n",
    "    plt.ylabel(metrics)\n",
    "    plt.title('Learning curve of {}'.format(title))\n",
    "    plt.legend()\n",
    "    plt.show()"
   ]
  },
  {
   "cell_type": "code",
   "execution_count": 232,
   "metadata": {
    "id": "Xfe3B9T0MuLN"
   },
   "outputs": [
    {
     "data": {
      "image/png": "[encoded data removed]",
      "text/plain": [
       "<Figure size 600x400 with 1 Axes>"
      ]
     },
     "metadata": {},
     "output_type": "display_data"
    }
   ],
   "source": [
    "plot_learning_curve(loss_record, \"Classification Rating Prediction\")"
   ]
  },
  {
   "cell_type": "code",
   "execution_count": 233,
   "metadata": {
    "id": "UCfsFxn7MuJL"
   },
   "outputs": [
    {
     "data": {
      "image/png": "[encoded data removed]",
      "text/plain": [
       "<Figure size 600x400 with 1 Axes>"
      ]
     },
     "metadata": {},
     "output_type": "display_data"
    }
   ],
   "source": [
    "plot_learning_curve(acc_record, \"Classification Rating Prediction\", \"Accuracy\")"
   ]
  },
  {
   "cell_type": "code",
   "execution_count": 234,
   "metadata": {},
   "outputs": [],
   "source": [
    "import numpy as np\n",
    "from sklearn.decomposition import PCA\n",
    "import matplotlib.pyplot as plt\n",
    "\n",
    "user_embed_matrix = ratingPredictor.user_embedding.weight.data.numpy()\n",
    "rest_embed_matrix = ratingPredictor.restaurant_embedding.weight.data.numpy()\n",
    "attr_embed_matrix = ratingPredictor.attributes_embedding.weight.data.numpy()"
   ]
  },
  {
   "cell_type": "code",
   "execution_count": 235,
   "metadata": {
    "id": "A3Qm5U4FMuHR"
   },
   "outputs": [
    {
     "name": "stdout",
     "output_type": "stream",
     "text": [
      "(11024, 30)\n",
      "[[-0.09139854  0.00199248 -0.04729364  0.00779703 -0.494662    0.01791922\n",
      "  -0.03534693  0.00201424  0.03788558 -0.0326215  -0.80230135 -0.15203321\n",
      "   0.01039924  0.04395073  0.01000704 -0.05774527 -0.08463906 -0.03292789\n",
      "  -0.01684783 -0.00377025  0.03392455  0.10567483  0.01621971 -0.0233927\n",
      "  -0.01129463  0.03412221  0.07058837  0.18565328  0.06609983 -0.03897335]\n",
      " [-0.10410354 -0.11867148 -0.08861052 -0.01408822  0.02911659  0.13489968\n",
      "  -0.08579703  0.03220689 -0.0948993  -0.03573015 -0.09870791  0.7915105\n",
      "  -0.2762039  -0.01180166 -0.09194172 -0.3779659  -0.01349907  0.04928518\n",
      "  -0.06004103 -0.0817358   0.00336212 -0.01143338  0.01612524  0.08915859\n",
      "   0.00936588 -0.06669834  0.1719527   0.0833834  -0.04357028 -0.03357781]]\n"
     ]
    },
    {
     "data": {
      "image/png": "[encoded data removed]",
      "text/plain": [
       "<Figure size 640x480 with 1 Axes>"
      ]
     },
     "metadata": {},
     "output_type": "display_data"
    },
    {
     "name": "stdout",
     "output_type": "stream",
     "text": [
      "(1829, 30)\n",
      "[[-0.00808972  0.27854845 -0.04144561  0.02585977 -0.06563772 -0.04546415\n",
      "   0.00678581 -0.06060449  0.04047223  0.00197048  0.07263523  0.03840952\n",
      "   0.01498701 -0.00395133 -0.4648652   0.03757372  0.07062021 -0.00260849\n",
      "   0.02959887 -0.0992732   0.09330801 -0.03739355  0.02412737  0.02729707\n",
      "   0.80953866 -0.01662498  0.00725065 -0.01351691 -0.00981021  0.02452979]\n",
      " [ 0.03300387  0.01228733  0.05250734  0.03872845  0.01646763  0.12497658\n",
      "  -0.00832962 -0.02856105  0.01254243  0.04006229  0.04221168  0.1313974\n",
      "   0.05440746  0.13268508 -0.7629221   0.06644069 -0.03620689  0.03359038\n",
      "   0.04682294 -0.00681941  0.02806918 -0.00422412  0.23970976  0.23630734\n",
      "  -0.46779612 -0.01453212  0.02688206 -0.0636135  -0.07836316 -0.03387785]]\n"
     ]
    },
    {
     "data": {
      "image/png": "[encoded data removed]",
      "text/plain": [
       "<Figure size 640x480 with 1 Axes>"
      ]
     },
     "metadata": {},
     "output_type": "display_data"
    },
    {
     "name": "stdout",
     "output_type": "stream",
     "text": [
      "(8, 30)\n",
      "[[-1.22668445e-02 -1.99546814e-02  1.76691654e-04  2.06156865e-01\n",
      "   5.00434816e-01 -1.80847257e-01  3.92516404e-02  3.93186450e-01\n",
      "  -3.84999663e-02 -9.62231383e-02 -2.16498692e-03 -2.54383862e-01\n",
      "  -2.90093198e-02 -9.87885892e-02 -2.14859936e-02 -4.31058258e-02\n",
      "   1.04585430e-02  2.50226399e-03 -1.28144860e-01 -3.70273665e-02\n",
      "  -6.30474210e-01  7.04723448e-02  2.11011593e-05 -8.75991583e-02\n",
      "  -1.04167312e-02  1.07067940e-03 -1.06248306e-02 -3.18853259e-02\n",
      "  -2.36638496e-03  2.38449266e-03]\n",
      " [ 2.22243071e-02  1.44796744e-01 -4.20764991e-04  1.99844494e-01\n",
      "   3.08594793e-01 -2.62595892e-01  4.96403873e-02  3.64776671e-01\n",
      "   1.31349592e-02 -1.13165468e-01 -5.50448615e-03  6.00520372e-01\n",
      "   4.47815284e-02 -8.30114037e-02  3.96388918e-02 -6.57765567e-02\n",
      "  -2.67264880e-02 -5.94080472e-03 -1.62076354e-01 -4.92869392e-02\n",
      "   4.21820819e-01 -1.71787232e-01  1.18466487e-05 -7.90480673e-02\n",
      "   2.49454603e-02 -8.39025131e-04  2.63043568e-02  7.66026005e-02\n",
      "   6.00116048e-03 -1.00755207e-02]]\n"
     ]
    },
    {
     "data": {
      "image/png": "[encoded data removed]",
      "text/plain": [
       "<Figure size 640x480 with 1 Axes>"
      ]
     },
     "metadata": {},
     "output_type": "display_data"
    }
   ],
   "source": [
    "def visualize_embed(matrix, s=1):\n",
    "    # Apply PCA to reduce the dimensionality of the embeddings to 3\n",
    "    pca = PCA(n_components=2)\n",
    "    embedding_pca = pca.fit_transform(matrix)\n",
    "    print(matrix.shape)\n",
    "    print(pca.components_)\n",
    "    # Plot the embeddings using a scatter plot\n",
    "    plt.scatter(embedding_pca[:, 0], embedding_pca[:, 1], s=s)\n",
    "    plt.show()\n",
    "visualize_embed(user_embed_matrix)\n",
    "visualize_embed(rest_embed_matrix)\n",
    "visualize_embed(attr_embed_matrix, s = 10)"
   ]
  },
  {
   "cell_type": "code",
   "execution_count": 236,
   "metadata": {
    "id": "5IYf_XByMuFO"
   },
   "outputs": [
    {
     "name": "stdout",
     "output_type": "stream",
     "text": [
      "Predicted rating: 4.267698287963867\n"
     ]
    }
   ],
   "source": [
    "rating_predictor = torch.load('class_rating.pth')\n",
    "rating_predictor.eval()\n",
    "\n",
    "# Create input tensors for a single example\n",
    "user = torch.tensor([0])\n",
    "restaurant = torch.tensor([1])\n",
    "attributes = torch.tensor([0, 1, 2, 3, 1, 1, 1, 1])\n",
    "\n",
    "# Make a prediction using the model\n",
    "rating = rating_predictor(user, restaurant, attributes, minmax=(0, 5))\n",
    "\n",
    "# Print the predicted rating\n",
    "print(f\"Predicted rating: {rating.item()}\")"
   ]
  }
 ],
 "metadata": {
  "accelerator": "GPU",
  "colab": {
   "provenance": [],
   "toc_visible": true
  },
  "gpuClass": "standard",
  "kernelspec": {
   "display_name": "ML4016",
   "language": "python",
   "name": "ml4016"
  },
  "language_info": {
   "codemirror_mode": {
    "name": "ipython",
    "version": 3
   },
   "file_extension": ".py",
   "mimetype": "text/x-python",
   "name": "python",
   "nbconvert_exporter": "python",
   "pygments_lexer": "ipython3",
   "version": "3.8.16"
  }
 },
 "nbformat": 4,
 "nbformat_minor": 1
}
